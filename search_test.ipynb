{
 "cells": [
  {
   "cell_type": "code",
   "execution_count": 1,
   "metadata": {},
   "outputs": [],
   "source": [
    "from astropy.io import fits\n",
    "import matplotlib.pyplot as plt \n",
    "from scipy.signal import savgol_filter\n",
    "from astropy.stats import sigma_clipped_stats as scs\n",
    "import numpy as np\n",
    "import glob\n"
   ]
  },
  {
   "cell_type": "code",
   "execution_count": 2,
   "metadata": {},
   "outputs": [
    {
     "ename": "FileNotFoundError",
     "evalue": "[Errno 2] No such file or directory: '../xsm/data/2021/11/11/calibrated/ch2_xsm_20211111_v1_level2.lc'",
     "output_type": "error",
     "traceback": [
      "\u001b[0;31m---------------------------------------------------------------------------\u001b[0m",
      "\u001b[0;31mFileNotFoundError\u001b[0m                         Traceback (most recent call last)",
      "\u001b[0;32m<ipython-input-2-a034eff9d99d>\u001b[0m in \u001b[0;36m<module>\u001b[0;34m\u001b[0m\n\u001b[0;32m----> 1\u001b[0;31m \u001b[0mlc\u001b[0m \u001b[0;34m=\u001b[0m \u001b[0mfits\u001b[0m\u001b[0;34m.\u001b[0m\u001b[0mopen\u001b[0m\u001b[0;34m(\u001b[0m\u001b[0;34m\"../xsm/data/2021/11/11/calibrated/ch2_xsm_20211111_v1_level2.lc\"\u001b[0m\u001b[0;34m)\u001b[0m\u001b[0;34m\u001b[0m\u001b[0;34m\u001b[0m\u001b[0m\n\u001b[0m",
      "\u001b[0;32m~/.local/lib/python3.6/site-packages/astropy/io/fits/hdu/hdulist.py\u001b[0m in \u001b[0;36mfitsopen\u001b[0;34m(name, mode, memmap, save_backup, cache, lazy_load_hdus, **kwargs)\u001b[0m\n\u001b[1;32m    156\u001b[0m \u001b[0;34m\u001b[0m\u001b[0m\n\u001b[1;32m    157\u001b[0m     return HDUList.fromfile(name, mode, memmap, save_backup, cache,\n\u001b[0;32m--> 158\u001b[0;31m                             lazy_load_hdus, **kwargs)\n\u001b[0m\u001b[1;32m    159\u001b[0m \u001b[0;34m\u001b[0m\u001b[0m\n\u001b[1;32m    160\u001b[0m \u001b[0;34m\u001b[0m\u001b[0m\n",
      "\u001b[0;32m~/.local/lib/python3.6/site-packages/astropy/io/fits/hdu/hdulist.py\u001b[0m in \u001b[0;36mfromfile\u001b[0;34m(cls, fileobj, mode, memmap, save_backup, cache, lazy_load_hdus, **kwargs)\u001b[0m\n\u001b[1;32m    395\u001b[0m         return cls._readfrom(fileobj=fileobj, mode=mode, memmap=memmap,\n\u001b[1;32m    396\u001b[0m                              \u001b[0msave_backup\u001b[0m\u001b[0;34m=\u001b[0m\u001b[0msave_backup\u001b[0m\u001b[0;34m,\u001b[0m \u001b[0mcache\u001b[0m\u001b[0;34m=\u001b[0m\u001b[0mcache\u001b[0m\u001b[0;34m,\u001b[0m\u001b[0;34m\u001b[0m\u001b[0;34m\u001b[0m\u001b[0m\n\u001b[0;32m--> 397\u001b[0;31m                              lazy_load_hdus=lazy_load_hdus, **kwargs)\n\u001b[0m\u001b[1;32m    398\u001b[0m \u001b[0;34m\u001b[0m\u001b[0m\n\u001b[1;32m    399\u001b[0m     \u001b[0;34m@\u001b[0m\u001b[0mclassmethod\u001b[0m\u001b[0;34m\u001b[0m\u001b[0;34m\u001b[0m\u001b[0m\n",
      "\u001b[0;32m~/.local/lib/python3.6/site-packages/astropy/io/fits/hdu/hdulist.py\u001b[0m in \u001b[0;36m_readfrom\u001b[0;34m(cls, fileobj, data, mode, memmap, save_backup, cache, lazy_load_hdus, **kwargs)\u001b[0m\n\u001b[1;32m   1044\u001b[0m             \u001b[0;32mif\u001b[0m \u001b[0;32mnot\u001b[0m \u001b[0misinstance\u001b[0m\u001b[0;34m(\u001b[0m\u001b[0mfileobj\u001b[0m\u001b[0;34m,\u001b[0m \u001b[0m_File\u001b[0m\u001b[0;34m)\u001b[0m\u001b[0;34m:\u001b[0m\u001b[0;34m\u001b[0m\u001b[0;34m\u001b[0m\u001b[0m\n\u001b[1;32m   1045\u001b[0m                 \u001b[0;31m# instantiate a FITS file object (ffo)\u001b[0m\u001b[0;34m\u001b[0m\u001b[0;34m\u001b[0m\u001b[0;34m\u001b[0m\u001b[0m\n\u001b[0;32m-> 1046\u001b[0;31m                 \u001b[0mfileobj\u001b[0m \u001b[0;34m=\u001b[0m \u001b[0m_File\u001b[0m\u001b[0;34m(\u001b[0m\u001b[0mfileobj\u001b[0m\u001b[0;34m,\u001b[0m \u001b[0mmode\u001b[0m\u001b[0;34m=\u001b[0m\u001b[0mmode\u001b[0m\u001b[0;34m,\u001b[0m \u001b[0mmemmap\u001b[0m\u001b[0;34m=\u001b[0m\u001b[0mmemmap\u001b[0m\u001b[0;34m,\u001b[0m \u001b[0mcache\u001b[0m\u001b[0;34m=\u001b[0m\u001b[0mcache\u001b[0m\u001b[0;34m)\u001b[0m\u001b[0;34m\u001b[0m\u001b[0;34m\u001b[0m\u001b[0m\n\u001b[0m\u001b[1;32m   1047\u001b[0m             \u001b[0;31m# The Astropy mode is determined by the _File initializer if the\u001b[0m\u001b[0;34m\u001b[0m\u001b[0;34m\u001b[0m\u001b[0;34m\u001b[0m\u001b[0m\n\u001b[1;32m   1048\u001b[0m             \u001b[0;31m# supplied mode was None\u001b[0m\u001b[0;34m\u001b[0m\u001b[0;34m\u001b[0m\u001b[0;34m\u001b[0m\u001b[0m\n",
      "\u001b[0;32m~/.local/lib/python3.6/site-packages/astropy/utils/decorators.py\u001b[0m in \u001b[0;36mwrapper\u001b[0;34m(*args, **kwargs)\u001b[0m\n\u001b[1;32m    519\u001b[0m                             \u001b[0mkwargs\u001b[0m\u001b[0;34m[\u001b[0m\u001b[0mnew_name\u001b[0m\u001b[0;34m[\u001b[0m\u001b[0mi\u001b[0m\u001b[0;34m]\u001b[0m\u001b[0;34m]\u001b[0m \u001b[0;34m=\u001b[0m \u001b[0mvalue\u001b[0m\u001b[0;34m\u001b[0m\u001b[0;34m\u001b[0m\u001b[0m\n\u001b[1;32m    520\u001b[0m \u001b[0;34m\u001b[0m\u001b[0m\n\u001b[0;32m--> 521\u001b[0;31m             \u001b[0;32mreturn\u001b[0m \u001b[0mfunction\u001b[0m\u001b[0;34m(\u001b[0m\u001b[0;34m*\u001b[0m\u001b[0margs\u001b[0m\u001b[0;34m,\u001b[0m \u001b[0;34m**\u001b[0m\u001b[0mkwargs\u001b[0m\u001b[0;34m)\u001b[0m\u001b[0;34m\u001b[0m\u001b[0;34m\u001b[0m\u001b[0m\n\u001b[0m\u001b[1;32m    522\u001b[0m \u001b[0;34m\u001b[0m\u001b[0m\n\u001b[1;32m    523\u001b[0m         \u001b[0;32mreturn\u001b[0m \u001b[0mwrapper\u001b[0m\u001b[0;34m\u001b[0m\u001b[0;34m\u001b[0m\u001b[0m\n",
      "\u001b[0;32m~/.local/lib/python3.6/site-packages/astropy/io/fits/file.py\u001b[0m in \u001b[0;36m__init__\u001b[0;34m(self, fileobj, mode, memmap, overwrite, cache)\u001b[0m\n\u001b[1;32m    191\u001b[0m             \u001b[0mself\u001b[0m\u001b[0;34m.\u001b[0m\u001b[0m_open_fileobj\u001b[0m\u001b[0;34m(\u001b[0m\u001b[0mfileobj\u001b[0m\u001b[0;34m,\u001b[0m \u001b[0mmode\u001b[0m\u001b[0;34m,\u001b[0m \u001b[0moverwrite\u001b[0m\u001b[0;34m)\u001b[0m\u001b[0;34m\u001b[0m\u001b[0;34m\u001b[0m\u001b[0m\n\u001b[1;32m    192\u001b[0m         \u001b[0;32melif\u001b[0m \u001b[0misinstance\u001b[0m\u001b[0;34m(\u001b[0m\u001b[0mfileobj\u001b[0m\u001b[0;34m,\u001b[0m \u001b[0mstr\u001b[0m\u001b[0;34m)\u001b[0m\u001b[0;34m:\u001b[0m\u001b[0;34m\u001b[0m\u001b[0;34m\u001b[0m\u001b[0m\n\u001b[0;32m--> 193\u001b[0;31m             \u001b[0mself\u001b[0m\u001b[0;34m.\u001b[0m\u001b[0m_open_filename\u001b[0m\u001b[0;34m(\u001b[0m\u001b[0mfileobj\u001b[0m\u001b[0;34m,\u001b[0m \u001b[0mmode\u001b[0m\u001b[0;34m,\u001b[0m \u001b[0moverwrite\u001b[0m\u001b[0;34m)\u001b[0m\u001b[0;34m\u001b[0m\u001b[0;34m\u001b[0m\u001b[0m\n\u001b[0m\u001b[1;32m    194\u001b[0m         \u001b[0;32melse\u001b[0m\u001b[0;34m:\u001b[0m\u001b[0;34m\u001b[0m\u001b[0;34m\u001b[0m\u001b[0m\n\u001b[1;32m    195\u001b[0m             \u001b[0mself\u001b[0m\u001b[0;34m.\u001b[0m\u001b[0m_open_filelike\u001b[0m\u001b[0;34m(\u001b[0m\u001b[0mfileobj\u001b[0m\u001b[0;34m,\u001b[0m \u001b[0mmode\u001b[0m\u001b[0;34m,\u001b[0m \u001b[0moverwrite\u001b[0m\u001b[0;34m)\u001b[0m\u001b[0;34m\u001b[0m\u001b[0;34m\u001b[0m\u001b[0m\n",
      "\u001b[0;32m~/.local/lib/python3.6/site-packages/astropy/io/fits/file.py\u001b[0m in \u001b[0;36m_open_filename\u001b[0;34m(self, filename, mode, overwrite)\u001b[0m\n\u001b[1;32m    572\u001b[0m \u001b[0;34m\u001b[0m\u001b[0m\n\u001b[1;32m    573\u001b[0m         \u001b[0;32mif\u001b[0m \u001b[0;32mnot\u001b[0m \u001b[0mself\u001b[0m\u001b[0;34m.\u001b[0m\u001b[0m_try_read_compressed\u001b[0m\u001b[0;34m(\u001b[0m\u001b[0mself\u001b[0m\u001b[0;34m.\u001b[0m\u001b[0mname\u001b[0m\u001b[0;34m,\u001b[0m \u001b[0mmagic\u001b[0m\u001b[0;34m,\u001b[0m \u001b[0mmode\u001b[0m\u001b[0;34m,\u001b[0m \u001b[0mext\u001b[0m\u001b[0;34m=\u001b[0m\u001b[0mext\u001b[0m\u001b[0;34m)\u001b[0m\u001b[0;34m:\u001b[0m\u001b[0;34m\u001b[0m\u001b[0;34m\u001b[0m\u001b[0m\n\u001b[0;32m--> 574\u001b[0;31m             \u001b[0mself\u001b[0m\u001b[0;34m.\u001b[0m\u001b[0m_file\u001b[0m \u001b[0;34m=\u001b[0m \u001b[0mfileobj_open\u001b[0m\u001b[0;34m(\u001b[0m\u001b[0mself\u001b[0m\u001b[0;34m.\u001b[0m\u001b[0mname\u001b[0m\u001b[0;34m,\u001b[0m \u001b[0mIO_FITS_MODES\u001b[0m\u001b[0;34m[\u001b[0m\u001b[0mmode\u001b[0m\u001b[0;34m]\u001b[0m\u001b[0;34m)\u001b[0m\u001b[0;34m\u001b[0m\u001b[0;34m\u001b[0m\u001b[0m\n\u001b[0m\u001b[1;32m    575\u001b[0m             \u001b[0mself\u001b[0m\u001b[0;34m.\u001b[0m\u001b[0mclose_on_error\u001b[0m \u001b[0;34m=\u001b[0m \u001b[0;32mTrue\u001b[0m\u001b[0;34m\u001b[0m\u001b[0;34m\u001b[0m\u001b[0m\n\u001b[1;32m    576\u001b[0m \u001b[0;34m\u001b[0m\u001b[0m\n",
      "\u001b[0;32m~/.local/lib/python3.6/site-packages/astropy/io/fits/util.py\u001b[0m in \u001b[0;36mfileobj_open\u001b[0;34m(filename, mode)\u001b[0m\n\u001b[1;32m    394\u001b[0m     \"\"\"\n\u001b[1;32m    395\u001b[0m \u001b[0;34m\u001b[0m\u001b[0m\n\u001b[0;32m--> 396\u001b[0;31m     \u001b[0;32mreturn\u001b[0m \u001b[0mopen\u001b[0m\u001b[0;34m(\u001b[0m\u001b[0mfilename\u001b[0m\u001b[0;34m,\u001b[0m \u001b[0mmode\u001b[0m\u001b[0;34m,\u001b[0m \u001b[0mbuffering\u001b[0m\u001b[0;34m=\u001b[0m\u001b[0;36m0\u001b[0m\u001b[0;34m)\u001b[0m\u001b[0;34m\u001b[0m\u001b[0;34m\u001b[0m\u001b[0m\n\u001b[0m\u001b[1;32m    397\u001b[0m \u001b[0;34m\u001b[0m\u001b[0m\n\u001b[1;32m    398\u001b[0m \u001b[0;34m\u001b[0m\u001b[0m\n",
      "\u001b[0;31mFileNotFoundError\u001b[0m: [Errno 2] No such file or directory: '../xsm/data/2021/11/11/calibrated/ch2_xsm_20211111_v1_level2.lc'"
     ]
    }
   ],
   "source": [
    "lc = fits.open(\"../xsm/data/2021/11/11/calibrated/ch2_xsm_20211111_v1_level2.lc\")"
   ]
  },
  {
   "cell_type": "code",
   "execution_count": null,
   "metadata": {},
   "outputs": [],
   "source": [
    "lc.info()"
   ]
  },
  {
   "cell_type": "markdown",
   "metadata": {},
   "source": [
    "## Search for outliers"
   ]
  },
  {
   "cell_type": "markdown",
   "metadata": {},
   "source": [
    "### Background subtraction "
   ]
  },
  {
   "cell_type": "code",
   "execution_count": null,
   "metadata": {},
   "outputs": [],
   "source": [
    "counts = lc[1].data['RATE']\n",
    "time = lc[1].data['TIME']"
   ]
  },
  {
   "cell_type": "code",
   "execution_count": null,
   "metadata": {},
   "outputs": [],
   "source": [
    "plt.plot(time, counts)"
   ]
  },
  {
   "cell_type": "markdown",
   "metadata": {},
   "source": [
    "Need to split the .lc file into contiguous orbits"
   ]
  },
  {
   "cell_type": "code",
   "execution_count": null,
   "metadata": {},
   "outputs": [],
   "source": [
    "def orbit_start_indices(time, step=1):\n",
    "    output_arr = []\n",
    "    length_arr = []\n",
    "    for i in range(len(time)):\n",
    "        if(i==0):\n",
    "            output_arr.append(i)\n",
    "        elif(time[i]-time[i-1]>step):\n",
    "            length_arr.append(time[i-1]-time[output_arr[-1]])\n",
    "            output_arr.append(i)\n",
    "    return output_arr, length_arr"
   ]
  },
  {
   "cell_type": "code",
   "execution_count": null,
   "metadata": {},
   "outputs": [],
   "source": [
    "orbit_start_indices(time, 2)"
   ]
  },
  {
   "cell_type": "code",
   "execution_count": null,
   "metadata": {},
   "outputs": [],
   "source": [
    "def distinct_orbits(arr, indices_array):\n",
    "    output_arr = []\n",
    "    for i in range(len(indices_array)):\n",
    "        if(i==0):\n",
    "            temp = arr[indices_array[0]:indices_array[1]]\n",
    "            output_arr.append(temp)\n",
    "        elif(i<len(indices_array)-1):\n",
    "            temp = arr[indices_array[i]:indices_array[i+1]]\n",
    "            output_arr.append(temp)\n",
    "        else:\n",
    "            temp = arr[indices_array[-1]:]\n",
    "            output_arr.append(temp)\n",
    "    return output_arr"
   ]
  },
  {
   "cell_type": "code",
   "execution_count": null,
   "metadata": {},
   "outputs": [],
   "source": [
    "def n_sigma(time, counts, n):\n",
    "    '''n-sigma : returns indices where counts>(mean+n*sigma)\n",
    "    Returns flags, mean, sigma'''\n",
    "    mean,_, sigma = scs(counts)\n",
    "    #flags = np.where(counts>(mean+n*sigma)\n",
    "    flags = np.where(counts>(mean+n*sigma))\n",
    "    return flags, mean, sigma"
   ]
  },
  {
   "cell_type": "markdown",
   "metadata": {},
   "source": [
    "Need to rebin the data according to the minimum duration of burst being observed"
   ]
  },
  {
   "cell_type": "code",
   "execution_count": null,
   "metadata": {},
   "outputs": [],
   "source": [
    "def bin_edges_from_time(time, t_bin):\n",
    "    time = np.array(time)\n",
    "    bin_edges = (time[1:] + time[:-1])/2.0\n",
    "    bin_edges = np.insert(bin_edges, 0, bin_edges[0] - t_bin)\n",
    "    bin_edges = np.append(bin_edges,bin_edges[-1] + t_bin)\n",
    "    return bin_edges"
   ]
  },
  {
   "cell_type": "code",
   "execution_count": null,
   "metadata": {},
   "outputs": [],
   "source": [
    "'''\n",
    "flags, mean, sigma = n_sigma(time, counts, 3)\n",
    "for orbit_num in range(len(time_split)):\n",
    "    #run search on this\n",
    "    plt.figure(orbit_num)\n",
    "    print(mean, sigma)\n",
    "    plt.plot(time_split[orbit_num], counts_split[orbit_num])\n",
    "    plt.axhline(mean+3*sigma,linestyle='--', color='r')\n",
    "    plt.axhline(mean, linestyle = '--', color='g')\n",
    "'''"
   ]
  },
  {
   "cell_type": "markdown",
   "metadata": {},
   "source": [
    "Splitting the lightcurve into orbits will not work as it becomes difficult to distinguish background variations from the actual solar burst (ask about duration, min, max)"
   ]
  },
  {
   "cell_type": "code",
   "execution_count": null,
   "metadata": {},
   "outputs": [],
   "source": [
    "plt.figure(0)\n",
    "flags, mean, sigma = n_sigma(time, counts, 3)\n",
    "plt.plot(time, counts, alpha=0.7 )\n",
    "plt.axhline(mean+3*sigma,linestyle='--', color='r')\n",
    "plt.axhline(mean, linestyle = '--', color='g')\n",
    "plt.scatter(time[flags], counts[flags])"
   ]
  },
  {
   "cell_type": "markdown",
   "metadata": {},
   "source": [
    "Linear background fit "
   ]
  },
  {
   "cell_type": "code",
   "execution_count": null,
   "metadata": {},
   "outputs": [],
   "source": [
    "from scipy.stats import linregress"
   ]
  },
  {
   "cell_type": "code",
   "execution_count": null,
   "metadata": {},
   "outputs": [],
   "source": [
    "slope, intercept, r, p, se = linregress(time, counts)"
   ]
  },
  {
   "cell_type": "code",
   "execution_count": null,
   "metadata": {},
   "outputs": [],
   "source": [
    "def background_corrected(time, counts, mode='linear'):\n",
    "    '''time, rates \n",
    "    Returns background corrected rates'''\n",
    "    if(mode == 'linear'):\n",
    "        #linear for now \n",
    "        slope, intercept, r, p, se = linregress(time, counts)\n",
    "        return counts - (slope*time + intercept)\n",
    "    elif(mode == 'constant'):\n",
    "        mean, _ , _ = scs(counts)\n",
    "        return counts - mean"
   ]
  },
  {
   "cell_type": "code",
   "execution_count": null,
   "metadata": {},
   "outputs": [],
   "source": [
    "plt.figure(1)\n",
    "plt.plot(time, background_corrected(time, counts))"
   ]
  },
  {
   "cell_type": "markdown",
   "metadata": {},
   "source": [
    "Below function is piecewise "
   ]
  },
  {
   "cell_type": "code",
   "execution_count": null,
   "metadata": {},
   "outputs": [],
   "source": [
    "def piece(bin_edges, bin_rates, t_bin):\n",
    "    time = np.arange(bin_edges[0], bin_edges[-1], t_bin)\n",
    "    #binning\n",
    "    bin_widths = (bin_edges[1:] - bin_edges[:1])\n",
    "    condlist=np.zeros((bin_rates.size, time.size), dtype=float)\n",
    "    for i in range(bin_rates.size):\n",
    "    #making condlist\n",
    "        condlist[i] = (time>=bin_edges[i])&(time<bin_edges[i+1])\n",
    "    rates = np.piecewise(x=time, condlist=condlist, funclist=bin_rates)\n",
    "    return time, rates"
   ]
  },
  {
   "cell_type": "markdown",
   "metadata": {},
   "source": [
    "## Make a new binning function "
   ]
  },
  {
   "cell_type": "code",
   "execution_count": null,
   "metadata": {},
   "outputs": [],
   "source": [
    "def rebin_lc(time, rates, t_bin, t_bin_new):\n",
    "    #t_bin_new is the new binning\n",
    "    \"\"\"time, rates\n",
    "    t_bin : original binning in time\n",
    "    t_bin_new : desired binning\n",
    "    Returns time, rates (counts/s)\"\"\"\n",
    "    new_time = np.arange(time[0]-t_bin/2 + t_bin_new/2, time[-1]+t_bin/2 + t_bin_new/2, t_bin_new)\n",
    "    bin_edges = bin_edges_from_time(new_time, t_bin_new)\n",
    "    bin_counts = np.histogram(time, bins = bin_edges, weights = rates)[0]\n",
    "    bin_widths = bin_edges[1:] - bin_edges[:-1]\n",
    "    bin_rates = bin_counts/bin_widths\n",
    "    return new_time, bin_rates"
   ]
  },
  {
   "cell_type": "code",
   "execution_count": null,
   "metadata": {},
   "outputs": [],
   "source": [
    "f_time = np.arange(0,20,1)\n",
    "f_rates = np.random.randint(0, 5, size=(20))\n",
    "new_time = np.arange(f_time[0]-1.0/2 + 4.0/2, f_time[-1]+1.0/2 - 4.0/2 + 4.0, 4.0)\n",
    "bin_edges = bin_edges_from_time(new_time, 4.0)\n",
    "#bin_edges = (new_time[1:]+new_time[:-1])/2\n",
    "bin_counts = np.histogram(f_time, bins = bin_edges, weights = f_rates)[0]\n",
    "bin_widths = bin_edges[1:] - bin_edges[:-1]\n",
    "bin_rates = bin_counts/bin_widths"
   ]
  },
  {
   "cell_type": "code",
   "execution_count": null,
   "metadata": {},
   "outputs": [],
   "source": [
    "new_time"
   ]
  },
  {
   "cell_type": "code",
   "execution_count": null,
   "metadata": {},
   "outputs": [],
   "source": [
    "bin_edges"
   ]
  },
  {
   "cell_type": "code",
   "execution_count": null,
   "metadata": {},
   "outputs": [],
   "source": [
    "plt.plot(f_time, f_rates, '-o', drawstyle = 'steps-mid')\n",
    "plt.plot(new_time, bin_rates, '-o',drawstyle = 'steps-mid')\n",
    "plt.xlim(0,20)\n",
    "plt.grid()"
   ]
  },
  {
   "cell_type": "code",
   "execution_count": null,
   "metadata": {},
   "outputs": [],
   "source": [
    "counts = background_corrected(time , counts)"
   ]
  },
  {
   "cell_type": "code",
   "execution_count": null,
   "metadata": {},
   "outputs": [],
   "source": [
    "time_new, counts_new = rebin_lc(time, counts, 1.0, 25.0)"
   ]
  },
  {
   "cell_type": "code",
   "execution_count": null,
   "metadata": {},
   "outputs": [],
   "source": [
    "plt.figure(0, figsize=(15,5))\n",
    "n=3\n",
    "flags, mean, sigma = n_sigma(time_new, counts_new, n)\n",
    "plt.scatter(time_new, counts_new, alpha=0.7)\n",
    "plt.plot(time, counts, alpha=0.2)\n",
    "plt.axhline(mean+n*sigma,linestyle='--', color='r')\n",
    "plt.axhline(mean, linestyle = '--', color='g')\n",
    "plt.scatter(time_new[flags], counts_new[flags])\n",
    "#plt.xlim(1.533e8+74000, 1.533e8+77000)"
   ]
  },
  {
   "cell_type": "code",
   "execution_count": null,
   "metadata": {},
   "outputs": [],
   "source": [
    "time_new[flags]"
   ]
  },
  {
   "cell_type": "code",
   "execution_count": null,
   "metadata": {},
   "outputs": [],
   "source": [
    "orb_idx, len_arr = orbit_start_indices(np.array(time_new[flags]).flatten(), 25.0)"
   ]
  },
  {
   "cell_type": "code",
   "execution_count": null,
   "metadata": {},
   "outputs": [],
   "source": [
    "orb_idx"
   ]
  },
  {
   "cell_type": "code",
   "execution_count": null,
   "metadata": {},
   "outputs": [],
   "source": [
    "len_arr"
   ]
  },
  {
   "cell_type": "code",
   "execution_count": null,
   "metadata": {},
   "outputs": [],
   "source": [
    "orb_idx"
   ]
  },
  {
   "cell_type": "code",
   "execution_count": null,
   "metadata": {},
   "outputs": [],
   "source": [
    "burst_start_idx = int(np.argmax(len_arr))\n",
    "flags=np.array(flags).flatten()\n",
    "burst_flags = flags[orb_idx[burst_start_idx] : orb_idx[burst_start_idx+1]]"
   ]
  },
  {
   "cell_type": "code",
   "execution_count": null,
   "metadata": {},
   "outputs": [],
   "source": [
    "plt.scatter(time_new[burst_flags], counts_new[burst_flags])"
   ]
  },
  {
   "cell_type": "code",
   "execution_count": null,
   "metadata": {},
   "outputs": [],
   "source": [
    "from scipy.optimize import curve_fit"
   ]
  },
  {
   "cell_type": "code",
   "execution_count": null,
   "metadata": {},
   "outputs": [],
   "source": [
    "from scipy.special import erf"
   ]
  },
  {
   "cell_type": "code",
   "execution_count": null,
   "metadata": {},
   "outputs": [],
   "source": [
    "def EFP(x, A, B, C, D):\n",
    "    Z = (2*B + C**2*D)/(2*C)\n",
    "    return 1/2 * np.sqrt(np.pi) *  A * C * np.exp(D*(B-x) + C**2*D**2/4) * (erf(Z) - erf(Z - x/C))"
   ]
  },
  {
   "cell_type": "code",
   "execution_count": null,
   "metadata": {},
   "outputs": [],
   "source": [
    "flags2 = np.arange(581, 628)\n",
    "\n",
    "def EFP(x, A, B, C, D):\n",
    "    Z = (2*B + C**2*D)/(2*C)\n",
    "    return 1/2 * np.sqrt(np.pi) *  A * C * np.exp(D*(B-x) + C**2*D**2/4) * (erf(Z) - erf(Z - x/C))\n",
    "\n",
    "popt, pcov = curve_fit(EFP, np.float128(time_new[flags2]), np.float128(counts_new[flags2]), p0 =([25, 6000+1.5337e8, 17, 0.1]))\n",
    "\n",
    "#x2 = np.arange(1.533e8+75000, 1.533e8+77000)\n",
    "x2 = np.arange(1.533e8+74000, 1.533e8+78000)\n",
    "plt.scatter(time_new[flags2], counts_new[flags2])\n",
    "plt.plot(x2, EFP(x2, *popt))\n",
    "plt.savefig(\"efp_fit_1.png\")"
   ]
  },
  {
   "cell_type": "markdown",
   "metadata": {},
   "source": [
    "Should we ensure mean zero while fitting?"
   ]
  },
  {
   "cell_type": "code",
   "execution_count": null,
   "metadata": {},
   "outputs": [],
   "source": [
    "plt.plot(x2, EFP(x2, *popt))\n",
    "plt.axhline(0+sigma,linestyle='--', color='r', label = \"1$\\sigma$\")\n",
    "plt.axhline(0, linestyle = '--', color='g')\n",
    "#plt.scatter(time_new[flags2], counts_new[flags2])\n",
    "plt.legend()"
   ]
  },
  {
   "cell_type": "code",
   "execution_count": null,
   "metadata": {},
   "outputs": [],
   "source": [
    "t_arr = x2[np.argwhere(np.diff(np.sign(EFP(x2, *popt) - sigma))).flatten()]\n",
    "t_start = t_arr[0]\n",
    "t_end = t_arr[-1]\n",
    "t_max = x2[np.argmax(EFP(x2, *popt))]"
   ]
  },
  {
   "cell_type": "code",
   "execution_count": null,
   "metadata": {},
   "outputs": [],
   "source": [
    "print(t_start, t_end, t_max)"
   ]
  },
  {
   "cell_type": "code",
   "execution_count": null,
   "metadata": {},
   "outputs": [],
   "source": [
    "plt.plot(x2, EFP(x2, *popt))\n",
    "plt.axhline(0+sigma,linestyle='--', color='r', label = \"1$\\sigma$\")\n",
    "plt.axhline(0, linestyle = '--', color='g', label = '0')\n",
    "#plt.scatter(time_new[flags2], counts_new[flags2])\n",
    "plt.axvline(t_start, ls = '--', color = 'k')\n",
    "plt.axvline(t_end , ls = '--', color = 'k')\n",
    "plt.axvline(t_max, ls = '--', color = 'k')\n",
    "plt.scatter(time_new[flags2], counts_new[flags2], alpha=0.6)\n",
    "plt.legend()\n"
   ]
  },
  {
   "cell_type": "code",
   "execution_count": null,
   "metadata": {},
   "outputs": [],
   "source": [
    "t_arr"
   ]
  },
  {
   "cell_type": "code",
   "execution_count": null,
   "metadata": {},
   "outputs": [],
   "source": [
    "mean, sigma"
   ]
  },
  {
   "cell_type": "code",
   "execution_count": null,
   "metadata": {},
   "outputs": [],
   "source": [
    "counts_new[flags]"
   ]
  },
  {
   "cell_type": "markdown",
   "metadata": {},
   "source": [
    "lc $\\rightarrow$ time, rates $\\rightarrow$ background correct $\\rightarrow$ rebin $\\rightarrow$ n-sigma $\\rightarrow$ fit $\\rightarrow$ t_arr"
   ]
  },
  {
   "cell_type": "code",
   "execution_count": null,
   "metadata": {},
   "outputs": [],
   "source": [
    "def load_lc(filename):\n",
    "    '''filename : path to the .lc file\n",
    "    Returns : time, rates'''\n",
    "    lc = fits.open(filename)\n",
    "    rates = lc[1].data['RATE']\n",
    "    time = lc[1].data['TIME']\n",
    "    return time, rates"
   ]
  },
  {
   "cell_type": "code",
   "execution_count": null,
   "metadata": {},
   "outputs": [],
   "source": [
    "'''time, rates = load_lc(\"../xsm/data/2021/11/11/calibrated/ch2_xsm_20211111_v1_level2.lc\")\n",
    "rates = background_corrected(time, rates)\n",
    "n = 3\n",
    "t_bin_new = 5.0\n",
    "time_new, rates_new = rebin_lc(time, rates, 1.0, t_bin_new)\n",
    "flags, mean, sigma = n_sigma(time_new, rates_new, n)\n",
    "t2, fit2, time_burst, rates_burst = fit_efp(flags, time_new, rates_new, t_bin_new)\n",
    "'''"
   ]
  },
  {
   "cell_type": "code",
   "execution_count": null,
   "metadata": {},
   "outputs": [],
   "source": [
    "from scipy.interpolate import CubicSpline"
   ]
  },
  {
   "cell_type": "code",
   "execution_count": null,
   "metadata": {},
   "outputs": [],
   "source": [
    "def fit_efp(flags, time, rates, t_bin_new, A0, B0, C0, D0):\n",
    "    '''Returns fit'''\n",
    "    #find the largest contiguous interval in flags\n",
    "    orb_idx, len_arr = orbit_start_indices(np.array(time[flags]).flatten(), t_bin_new)\n",
    "    burst_start_idx = int(np.argmax(len_arr))\n",
    "    flags=np.array(flags).flatten()\n",
    "    burst_flags = flags[orb_idx[burst_start_idx] : orb_idx[burst_start_idx+1]]\n",
    "    #time_burst = time[burst_flags]\n",
    "    #rates_burst = rates[burst_flags]\n",
    "    time_burst = time[flags]\n",
    "    rates_burst = rates[flags]\n",
    "    t2 = np.linspace(time_burst[0], time_burst[-1], len(time_burst)*100)\n",
    "    A0 *= np.sqrt(max(rates_burst))\n",
    "    B0 *= time_burst[np.argmax(rates_burst)]\n",
    "    C0 *= np.sqrt(max(rates_burst))\n",
    "    popt, pcov = curve_fit(EFP, time_burst, rates_burst, p0 = [A0, B0 \\\n",
    "                                                               , C0, D0])\n",
    "    fit2 = EFP(t2, *popt)\n",
    "    return t2, fit2, time_burst, rates_burst\n",
    "#-------------------------------------------\n",
    "time, rates = load_lc(\"../xsm/data/2021/11/09/calibrated/ch2_xsm_20211109_v1_level2.lc\")\n",
    "rates = background_corrected(time, rates)\n",
    "n = 3\n",
    "t_bin_new = 30.0\n",
    "time_new, rates_new = rebin_lc(time, rates, 1.0, t_bin_new)\n",
    "plt.figure(0)\n",
    "plt.plot(time_new, rates_new)\n",
    "\n",
    "for i in range(10):\n",
    "    flags, mean, sigma = n_sigma(time_new, rates_new, n)\n",
    "    plt.axhline(mean+n*sigma,linestyle='--', color='r')\n",
    "    plt.axhline(mean, linestyle = '--', color='g')\n",
    "    t2, fit2, time_burst, rates_burst = fit_efp(flags, time_new, rates_new, t_bin_new, 1*i/10, 1, 1, 0.01)\n",
    "    plt.figure(1)\n",
    "    plt.plot(t2, fit2)\n",
    "    #plt.xlim(1.529e8+72000, 1.529e8+76000)\n",
    "    #plt.xlim(1.53e8+50000, 1.53e8+65000)\n",
    "    plt.scatter(time_burst, rates_burst)\n",
    "    plt.figure(2)\n",
    "    cs = CubicSpline(time_burst, rates_burst)\n",
    "    plt.scatter(time_burst, rates_burst)\n",
    "    plt.plot(time_burst, cs(time_burst))\n",
    "    plt.show()"
   ]
  },
  {
   "cell_type": "markdown",
   "metadata": {},
   "source": [
    "look at binning function "
   ]
  },
  {
   "cell_type": "code",
   "execution_count": null,
   "metadata": {},
   "outputs": [],
   "source": [
    "class lc:\n",
    "    def __init__(self, filename, t_bin_new):\n",
    "        self.filename = filename\n",
    "        self.time, self.lc_rates = load_lc(filename)\n",
    "        self.bc_rates = background_corrected(self.time, self.lc_rates, 'constant')\n",
    "        self.binned_time, self.binned_rates = rebin_lc(self.time, self.lc_rates, 1.0, t_bin_new)\n",
    "        "
   ]
  },
  {
   "cell_type": "code",
   "execution_count": null,
   "metadata": {},
   "outputs": [],
   "source": [
    "lc1 = lc(\"../xsm/data/2021/11/09/calibrated/ch2_xsm_20211109_v1_level2.lc\", 20)"
   ]
  },
  {
   "cell_type": "code",
   "execution_count": null,
   "metadata": {},
   "outputs": [],
   "source": [
    "plt.scatter(lc1.time, lc1.lc_rates)"
   ]
  },
  {
   "cell_type": "code",
   "execution_count": null,
   "metadata": {},
   "outputs": [],
   "source": [
    "def plot_peak_countrates_hist(folder_path):\n",
    "    filenames = glob.glob(folder_path + '*.lc')\n",
    "    peak_arr = []\n",
    "    for lc_file in filenames:\n",
    "        time, rates = load_lc(lc_file)\n",
    "        peak_arr.append(max(rates))\n",
    "    plt.figure(0)\n",
    "    plt.hist(peak_arr)\n",
    "    plt.show()\n",
    "    plt.savefig(\"peak_hist.png\")\n",
    "    return 0\n",
    "plot_peak_countrates_hist('/media/pranav/page/Laptop data/Coursework/Semester 8/InterIIT/Extracted lightcurve/')"
   ]
  }
 ],
 "metadata": {
  "kernelspec": {
   "display_name": "Python 3",
   "language": "python",
   "name": "python3"
  },
  "language_info": {
   "codemirror_mode": {
    "name": "ipython",
    "version": 3
   },
   "file_extension": ".py",
   "mimetype": "text/x-python",
   "name": "python",
   "nbconvert_exporter": "python",
   "pygments_lexer": "ipython3",
   "version": "3.6.9"
  }
 },
 "nbformat": 4,
 "nbformat_minor": 2
}
