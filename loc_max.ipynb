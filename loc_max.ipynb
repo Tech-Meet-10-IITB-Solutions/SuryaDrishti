{
 "cells": [
  {
   "cell_type": "code",
   "execution_count": 1,
   "metadata": {},
   "outputs": [],
   "source": [
    "from astropy.io import fits\n",
    "import matplotlib.pyplot as plt\n",
    "import seaborn\n",
    "import numpy as np\n",
    "import scipy\n",
    "from astropy.convolution import convolve, Box1DKernel"
   ]
  },
  {
   "cell_type": "code",
   "execution_count": 2,
   "metadata": {},
   "outputs": [],
   "source": [
    "lc = fits.open(r'C:\\Users\\aswin\\OneDrive\\Desktop\\ch2_xsm_20211111_v1_level2.lc')\n",
    "pha = fits.open(r'C:\\Users\\aswin\\OneDrive\\Desktop\\ch2_xsm_20211111_v1_level2.pha')"
   ]
  },
  {
   "cell_type": "code",
   "execution_count": 3,
   "metadata": {},
   "outputs": [
    {
     "name": "stdout",
     "output_type": "stream",
     "text": [
      "Filename: C:\\Users\\aswin\\OneDrive\\Desktop\\ch2_xsm_20211111_v1_level2.lc\n",
      "No.    Name      Ver    Type      Cards   Dimensions   Format\n",
      "  0  PRIMARY       1 PrimaryHDU      15   ()      \n",
      "  1  RATE          1 BinTableHDU     64   14096R x 4C   [D, E, E, E]   \n"
     ]
    }
   ],
   "source": [
    "lc.info()"
   ]
  },
  {
   "cell_type": "code",
   "execution_count": 4,
   "metadata": {},
   "outputs": [
    {
     "data": {
      "text/plain": [
       "SIMPLE  =                    T / file does conform to FITS standard             \n",
       "BITPIX  =                   16 / number of bits per data pixel                  \n",
       "NAXIS   =                    0 / number of data axes                            \n",
       "EXTEND  =                    T / FITS dataset may contain extensions            \n",
       "COMMENT   FITS (Flexible Image Transport System) format is defined in 'Astronomy\n",
       "COMMENT   and Astrophysics', volume 376, page 359; bibcode: 2001A&A...376..359H \n",
       "MISSION = 'CHANDRAYAAN-2'      / Name of mission/satellite                      \n",
       "TELESCOP= 'CH-2_ORBITER'       / Name of mission/satellite                      \n",
       "INSTRUME= 'CH2_XSM '           / Name of Instrument/detector                    \n",
       "ORIGIN  = 'PRLPOC  '           / Source of FITS file                            \n",
       "CREATOR = 'xsmgenlc '          / Creator of file                                \n",
       "FILENAME= 'ch2_xsm_20211111_v1_level2.lc' / Name of file                        \n",
       "CONTENT = 'Light curve'        / File content                                   \n",
       "DATE    = '2021-11-17T21:10:38' / Creation Date                                 \n",
       "XSMDASVE= '1.20    '           / Version of XSMDAS that created this file       "
      ]
     },
     "execution_count": 4,
     "metadata": {},
     "output_type": "execute_result"
    }
   ],
   "source": [
    "lc[0].header"
   ]
  },
  {
   "cell_type": "code",
   "execution_count": 5,
   "metadata": {},
   "outputs": [
    {
     "data": {
      "text/plain": [
       "XTENSION= 'BINTABLE'           / binary table extension                         \n",
       "BITPIX  =                    8 / 8-bit bytes                                    \n",
       "NAXIS   =                    2 / 2-dimensional binary table                     \n",
       "NAXIS1  =                   20 / width of table in bytes                        \n",
       "NAXIS2  =                14096 / number of rows in table                        \n",
       "PCOUNT  =                    0 / size of special data area                      \n",
       "GCOUNT  =                    1 / one data group (required keyword)              \n",
       "TFIELDS =                    4 / number of fields in each row                   \n",
       "TTYPE1  = 'TIME    '           / label for field   1                            \n",
       "TFORM1  = 'D       '           / data format of field: 8-byte DOUBLE            \n",
       "TTYPE2  = 'RATE    '           / label for field   2                            \n",
       "TFORM2  = 'E       '           / data format of field: 4-byte REAL              \n",
       "TTYPE3  = 'ERROR   '           / label for field   3                            \n",
       "TFORM3  = 'E       '           / data format of field: 4-byte REAL              \n",
       "TTYPE4  = 'FRACEXP '           / label for field   4                            \n",
       "TFORM4  = 'E       '           / data format of field: 4-byte REAL              \n",
       "TUNIT1  = 's       '           / physical unit of field                         \n",
       "TUNIT2  = 'count/s '           / physical unit of field                         \n",
       "TUNIT3  = 'counts/s'           / physical unit of field                         \n",
       "EXTNAME = 'RATE    '           / name of this binary table extension            \n",
       "DATE-OBS= '2021-11-11 00:00:00.911700000' / Date observation start              \n",
       "DATE-END= '2021-11-11 23:59:59.592149000' / Date observation end                \n",
       "TSTART  =      153360960.90926 / Start Time                                     \n",
       "TSTOP   =     153446400.591149 / Stop Time                                      \n",
       "TIMESYS = 'UTC     '           / Time system                                    \n",
       "MJDREF  =               57754. / MJD reference                                  \n",
       "MISSION = 'CHANDRAYAAN-2'      / Name of mission/satellite                      \n",
       "TELESCOP= 'CH-2_ORBITER'       / Name of mission/satellite                      \n",
       "INSTRUME= 'CH2_XSM '           / Name of Instrument/detector                    \n",
       "ORIGIN  = 'PRLPOC  '           / Source of FITS file                            \n",
       "CREATOR = 'xsmgenlc '          / Creator of file                                \n",
       "HDUCLASS= 'OGIP    '           / OGIP Standard                                  \n",
       "HDUCLAS1= 'LIGHTCURVE'                                                          \n",
       "HDUCLAS2= 'TOTAL   '           / total lc                                       \n",
       "TIMESYS = 'UTC      '          / Time measured from                             \n",
       "TIMEREF = 'LOCAL   '           / reference time                                 \n",
       "TIMEUNIT= 's       '           / unit for time keywords                         \n",
       "TELAPSE =     85439.6818890274 / elapsed time                                   \n",
       "TIMEDEL =                   1. / delta time                                     \n",
       "CHSTART =                    0 / PHA channel start                              \n",
       "CHSTOP  =                  960 / PHA channel stop                               \n",
       "XSMDASVE= '1.20    '           / Version of XSMDAS that created this file       \n",
       "CALDBVER= '20210628'           / Version of XSM CALDB used                      \n",
       "EXTVER  =                    1 / auto assigned by template parser               \n",
       "FILENAME= 'ch2_xsm_20211111_v1_level2.lc'                                       \n",
       "DATE    = '2021-11-17T21:10:38'                                                 \n",
       "HISTORY ************** XSMGENLC **************                                  \n",
       "HISTORY l1file = ch2_xsm_20211111_v1_level1.fits                                \n",
       "HISTORY lcfile = ch2_xsm_20211111_v1_level2.lc                                  \n",
       "HISTORY lctype = standard                                                       \n",
       "HISTORY areascal = yes                                                          \n",
       "HISTORY enesel = yes                                                            \n",
       "HISTORY enelow = -553794032                                                     \n",
       "HISTORY enehigh = -553794032                                                    \n",
       "HISTORY eboundsfile = CALDB                                                     \n",
       "HISTORY gainfile = CALDB                                                        \n",
       "HISTORY tbinsizesec = 1                                                         \n",
       "HISTORY hkfile = ch2_xsm_20211111_v1_level1.hk                                  \n",
       "HISTORY safile = ch2_xsm_20211111_v1_level1.sa                                  \n",
       "HISTORY gtifile = ch2_xsm_20211111_v1_level2.gti                                \n",
       "HISTORY abscoeffile = CALDB                                                     \n",
       "HISTORY effareaparfile = CALDB                                                  \n",
       "HISTORY clobber = yes                                                           \n",
       "HISTORY **************************************                                  "
      ]
     },
     "execution_count": 5,
     "metadata": {},
     "output_type": "execute_result"
    }
   ],
   "source": [
    "lc[1].header"
   ]
  },
  {
   "cell_type": "code",
   "execution_count": 6,
   "metadata": {},
   "outputs": [
    {
     "name": "stdout",
     "output_type": "stream",
     "text": [
      "Filename: C:\\Users\\aswin\\OneDrive\\Desktop\\ch2_xsm_20211111_v1_level2.pha\n",
      "No.    Name      Ver    Type      Cards   Dimensions   Format\n",
      "  0  PRIMARY       1 PrimaryHDU      15   ()      \n",
      "  1  SPECTRUM      1 BinTableHDU     89   248R x 9C   [1J, 512J, 512E, 512E, 512E, 1D, 1D, 1D, 1B]   \n"
     ]
    }
   ],
   "source": [
    "pha.info()"
   ]
  },
  {
   "cell_type": "code",
   "execution_count": 7,
   "metadata": {},
   "outputs": [
    {
     "data": {
      "text/plain": [
       "SIMPLE  =                    T / file does conform to FITS standard             \n",
       "BITPIX  =                   16 / number of bits per data pixel                  \n",
       "NAXIS   =                    0 / number of data axes                            \n",
       "EXTEND  =                    T / FITS dataset may contain extensions            \n",
       "COMMENT   FITS (Flexible Image Transport System) format is defined in 'Astronomy\n",
       "COMMENT   and Astrophysics', volume 376, page 359; bibcode: 2001A&A...376..359H \n",
       "MISSION = 'CHANDRAYAAN-2'      / Name of mission/satellite                      \n",
       "TELESCOP= 'CH-2_ORBITER'       / Name of mission/satellite                      \n",
       "INSTRUME= 'CH2_XSM '           / Name of Instrument/detector                    \n",
       "ORIGIN  = 'PRLPOC  '           / Source of FITS file                            \n",
       "CREATOR = 'xsmgenspec '        / Creator of file                                \n",
       "FILENAME= 'ch2_xsm_20211111_v1_level2.pha' / Name of file                       \n",
       "CONTENT = 'Type II PHA file'   / File content                                   \n",
       "DATE    = '2021-11-17T21:10:36' / Creation Date                                 \n",
       "XSMDASVE= '1.20    '           / Version of XSMDAS that created this file       "
      ]
     },
     "execution_count": 7,
     "metadata": {},
     "output_type": "execute_result"
    }
   ],
   "source": [
    "pha[0].header"
   ]
  },
  {
   "cell_type": "code",
   "execution_count": 8,
   "metadata": {},
   "outputs": [
    {
     "data": {
      "text/plain": [
       "XTENSION= 'BINTABLE'           / binary table extension                         \n",
       "BITPIX  =                    8 / 8-bit bytes                                    \n",
       "NAXIS   =                    2 / 2-dimensional binary table                     \n",
       "NAXIS1  =                 8221 / width of table in bytes                        \n",
       "NAXIS2  =                  248 / number of rows in table                        \n",
       "PCOUNT  =                    0 / size of special data area                      \n",
       "GCOUNT  =                    1 / one data group (required keyword)              \n",
       "TFIELDS =                    9 / number of fields in each row                   \n",
       "TTYPE1  = 'SPEC_NUM'           / PI Channel                                     \n",
       "TFORM1  = '1J      '           / format of field: int                           \n",
       "TTYPE2  = 'CHANNEL '           / Vector of spectral bin numbers.                \n",
       "TFORM2  = '512J    '           / format of field                                \n",
       "TTYPE3  = 'COUNTS  '           / Counts array (a spectrum)                      \n",
       "TFORM3  = '512E    '           / format of field                                \n",
       "TTYPE4  = 'STAT_ERR'           / Statistical uncertainty (error) on counts colum\n",
       "TFORM4  = '512E    '           / format of field                                \n",
       "TTYPE5  = 'SYS_ERR '           / Systematic Error (Fractional)                  \n",
       "TFORM5  = '512E      '         / data format of field                           \n",
       "TTYPE6  = 'EXPOSURE'           / Statistical uncertainty (error) on counts colum\n",
       "TFORM6  = '1D      '           / format of field                                \n",
       "TTYPE7  = 'TSTART  '           / Start time of spectrum                         \n",
       "TFORM7  = '1D      '           / format of field                                \n",
       "TTYPE8  = 'TSTOP   '           / Stop time of spectrum                          \n",
       "TFORM8  = '1D      '           / format of field                                \n",
       "TTYPE9  = 'FILT_STATUS'        / Filter status                                  \n",
       "TFORM9  = '1B      '           / format of field                                \n",
       "EXTNAME = 'SPECTRUM'           / name of this binary table extension            \n",
       "DATE-OBS= '2021-11-11 00:00:00.911700000' / Date observation start              \n",
       "DATE-END= '2021-11-11 23:59:59.592149000' / Date observation end                \n",
       "TSTART  =       153360900.9116 / Start Time                                     \n",
       "TSTOP   =       153397020.9116 / Stop Time                                      \n",
       "TIMESYS = 'UTC     '           / Time system                                    \n",
       "MJDREF  =               57754. / MJD reference                                  \n",
       "CONTENT = 'SPECTRUM'                                                            \n",
       "HDUCLASS= 'OGIP    '                                                            \n",
       "HDUCLAS1= 'SPECTRUM'                                                            \n",
       "HDUCLAS2= 'TOTAL   '                                                            \n",
       "HDUCLAS3= 'COUNT   '                                                            \n",
       "HDUCLAS4= 'TYPE:II '                                                            \n",
       "HDUCLAS5= 'TG      '                                                            \n",
       "HDUVERS = '1.2.0   '                                                            \n",
       "HDUVERS1= '1.2.0   '                                                            \n",
       "LONGSTRN= 'OGIP 1.0'           / The OGIP Longstring convention may be used     \n",
       "AREASCAL=                   1.                                                  \n",
       "BACKSCAL=                   1.                                                  \n",
       "CORRSCAL=                   1.                                                  \n",
       "BACKFILE= 'none    '           / Background file                                \n",
       "RESPFILE= 'CH2xsmrspwitharea_open20191214v01.rsp' / RMF file                    \n",
       "ANCRFILE= '        '           / Ancillary response file                        \n",
       "MISSION = 'CHANDRAYAAN-2'      / Name of mission/satellite                      \n",
       "TELESCOP= 'CH-2_ORBITER'       / Name of mission/satellite                      \n",
       "INSTRUME= 'CH2_XSM '           / Name of Instrument/detector                    \n",
       "ORIGIN  = 'PRLPOC  '           / Source of FITS file                            \n",
       "CREATOR = 'xsmgenspec '        / Creator of file                                \n",
       "DETCHANS=                  512                                                  \n",
       "POISSERR=                    F / Error in stat_err column                       \n",
       "TLMIN1  =                    0                                                  \n",
       "TLMAX1  =                  511                                                  \n",
       "XSMDASVE= '1.20    '           / Version of XSMDAS that created this file       \n",
       "CALDBVER= '20210628'           / Version of XSM CALDB used                      \n",
       "EXTVER  =                    1 / auto assigned by template parser               \n",
       "FILENAME= 'ch2_xsm_20211111_v1_level2.pha'                                      \n",
       "DATE    = '2021-11-17T21:10:36'                                                 \n",
       "CHANTYPE= 'PI      '                                                            \n",
       "TELAPSE =               36120.                                                  \n",
       "HISTORY ************** XSMGENSPEC **************                                \n",
       "HISTORY l1file = ch2_xsm_20211111_v1_level1.fits                                \n",
       "HISTORY specfile = ch2_xsm_20211111_v1_level2.pha                               \n",
       "HISTORY spectype = time-resolved                                                \n",
       "HISTORY chantype = PI                                                           \n",
       "HISTORY sourcetype = sun                                                        \n",
       "HISTORY genarf = no                                                             \n",
       "HISTORY arffile = none                                                          \n",
       "HISTORY areascal = yes                                                          \n",
       "HISTORY Tstart = 0.000000                                                       \n",
       "HISTORY Tstop = 0.000000                                                        \n",
       "HISTORY Tbinsize = 60                                                           \n",
       "HISTORY addsyserror = yes                                                       \n",
       "HISTORY hkfile = ch2_xsm_20211111_v1_level1.hk                                  \n",
       "HISTORY safile = ch2_xsm_20211111_v1_level1.sa                                  \n",
       "HISTORY gtifile = ch2_xsm_20211111_v1_level2.gti                                \n",
       "HISTORY eboundsfile = CALDB                                                     \n",
       "HISTORY gainfile = CALDB                                                        \n",
       "HISTORY gaincorfactor = 1.000000                                                \n",
       "HISTORY offsetcorfactor = 0.000000                                              \n",
       "HISTORY abscoeffile = CALDB                                                     \n",
       "HISTORY effareaparfile = CALDB                                                  \n",
       "HISTORY clobber = yes                                                           \n",
       "HISTORY **************************************                                  "
      ]
     },
     "execution_count": 8,
     "metadata": {},
     "output_type": "execute_result"
    }
   ],
   "source": [
    "pha[1].header"
   ]
  },
  {
   "cell_type": "code",
   "execution_count": 9,
   "metadata": {},
   "outputs": [
    {
     "data": {
      "text/plain": [
       "(array([393.2046 , 387.1895 , 319.76932, ..., 350.23395, 398.74332,\n",
       "        359.05457], dtype=float32),\n",
       " array([1.53360961e+08, 1.53360962e+08, 1.53360963e+08, ...,\n",
       "        1.53397004e+08, 1.53397005e+08, 1.53397006e+08]))"
      ]
     },
     "execution_count": 9,
     "metadata": {},
     "output_type": "execute_result"
    }
   ],
   "source": [
    "count_rate = lc['Rate'].data['Rate']\n",
    "time = lc['Rate'].data['Time']\n",
    "count_rate, time = np.array(count_rate), np.array(time)\n",
    "count_rate, time"
   ]
  },
  {
   "cell_type": "code",
   "execution_count": 10,
   "metadata": {
    "scrolled": true
   },
   "outputs": [
    {
     "data": {
      "text/plain": [
       "[<matplotlib.lines.Line2D at 0x18bf42103d0>]"
      ]
     },
     "execution_count": 10,
     "metadata": {},
     "output_type": "execute_result"
    },
    {
     "data": {
      "image/png": "[encoded data removed]",
      "text/plain": [
       "<Figure size 432x288 with 1 Axes>"
      ]
     },
     "metadata": {
      "needs_background": "light"
     },
     "output_type": "display_data"
    }
   ],
   "source": [
    "plt.plot(time[0:10000], count_rate[0:10000])#-1.53360961e+08"
   ]
  },
  {
   "cell_type": "code",
   "execution_count": 11,
   "metadata": {
    "scrolled": false
   },
   "outputs": [
    {
     "data": {
      "text/plain": [
       "[<matplotlib.lines.Line2D at 0x18bf430f4c0>]"
      ]
     },
     "execution_count": 11,
     "metadata": {},
     "output_type": "execute_result"
    },
    {
     "data": {
      "image/png": "[encoded data removed]",
      "text/plain": [
       "<Figure size 432x288 with 1 Axes>"
      ]
     },
     "metadata": {
      "needs_background": "light"
     },
     "output_type": "display_data"
    }
   ],
   "source": [
    "burst = np.intersect1d(np.where(time>1.533e8+75500), np.where(time<1.533e8+76500))\n",
    "burst1 = burst[:250]\n",
    "burst2 = burst[230:500]\n",
    "burst3 = burst[480:750]\n",
    "burst4 = burst[730:1000]\n",
    "plt.plot(time[burst], count_rate[burst], alpha = 1)\n",
    "smoothed_burst1 = convolve(count_rate[burst1], Box1DKernel(15))\n",
    "smoothed_burst2 = convolve(count_rate[burst2], Box1DKernel(15))\n",
    "smoothed_burst3 = convolve(count_rate[burst3], Box1DKernel(15))\n",
    "smoothed_burst4 = convolve(count_rate[burst4], Box1DKernel(15))\n",
    "plt.plot(time[burst1], smoothed_burst1, alpha = 1)\n",
    "plt.plot(time[burst2], smoothed_burst2, alpha = 1)\n",
    "plt.plot(time[burst3], smoothed_burst3, alpha = 1)\n",
    "plt.plot(time[burst4], smoothed_burst4, alpha = 1)"
   ]
  },
  {
   "cell_type": "code",
   "execution_count": 11,
   "metadata": {},
   "outputs": [
    {
     "data": {
      "text/plain": [
       "array([1.53360961e+08, 1.53361031e+08, 1.53361101e+08, 1.53361171e+08,\n",
       "       1.53361241e+08, 1.53361311e+08, 1.53361381e+08, 1.53361451e+08,\n",
       "       1.53361521e+08, 1.53361591e+08, 1.53361661e+08, 1.53361731e+08,\n",
       "       1.53361801e+08, 1.53361871e+08, 1.53361941e+08, 1.53362011e+08,\n",
       "       1.53362081e+08, 1.53362151e+08, 1.53362221e+08, 1.53362291e+08,\n",
       "       1.53362361e+08, 1.53362431e+08, 1.53362501e+08, 1.53362571e+08,\n",
       "       1.53362641e+08, 1.53362711e+08, 1.53362781e+08, 1.53362851e+08,\n",
       "       1.53362921e+08, 1.53362991e+08, 1.53363061e+08, 1.53363131e+08,\n",
       "       1.53363201e+08, 1.53363271e+08, 1.53363341e+08, 1.53363411e+08,\n",
       "       1.53363481e+08, 1.53363551e+08, 1.53363621e+08, 1.53363691e+08,\n",
       "       1.53363761e+08, 1.53363831e+08, 1.53363901e+08, 1.53363971e+08,\n",
       "       1.53364041e+08, 1.53364111e+08, 1.53364181e+08, 1.53364251e+08,\n",
       "       1.53364321e+08, 1.53364391e+08, 1.53364461e+08, 1.53364531e+08,\n",
       "       1.53364601e+08, 1.53364671e+08, 1.53364741e+08, 1.53364811e+08,\n",
       "       1.53364881e+08, 1.53364951e+08, 1.53365021e+08, 1.53365091e+08,\n",
       "       1.53365161e+08, 1.53365231e+08, 1.53365301e+08, 1.53365371e+08,\n",
       "       1.53365441e+08, 1.53365511e+08, 1.53365581e+08, 1.53365651e+08,\n",
       "       1.53365721e+08, 1.53365791e+08, 1.53365861e+08, 1.53365931e+08,\n",
       "       1.53366001e+08, 1.53366071e+08, 1.53366141e+08, 1.53366211e+08,\n",
       "       1.53366281e+08, 1.53366351e+08, 1.53366421e+08, 1.53366491e+08,\n",
       "       1.53366561e+08, 1.53366631e+08, 1.53366701e+08, 1.53366771e+08,\n",
       "       1.53366841e+08, 1.53366911e+08, 1.53366981e+08, 1.53367051e+08,\n",
       "       1.53367121e+08, 1.53367191e+08, 1.53367261e+08, 1.53367331e+08,\n",
       "       1.53367401e+08, 1.53367471e+08, 1.53367541e+08, 1.53367611e+08,\n",
       "       1.53367681e+08, 1.53367751e+08, 1.53367821e+08, 1.53367891e+08,\n",
       "       1.53367961e+08, 1.53368031e+08, 1.53368101e+08, 1.53368171e+08,\n",
       "       1.53368241e+08, 1.53368311e+08, 1.53368381e+08, 1.53368451e+08,\n",
       "       1.53368521e+08, 1.53368591e+08, 1.53368661e+08, 1.53368731e+08,\n",
       "       1.53368801e+08, 1.53368871e+08, 1.53368941e+08, 1.53369011e+08,\n",
       "       1.53369081e+08, 1.53369151e+08, 1.53369221e+08, 1.53369291e+08,\n",
       "       1.53369361e+08, 1.53369431e+08, 1.53369501e+08, 1.53369571e+08,\n",
       "       1.53369641e+08, 1.53369711e+08, 1.53369781e+08, 1.53369851e+08,\n",
       "       1.53369921e+08, 1.53369991e+08, 1.53370061e+08, 1.53370131e+08,\n",
       "       1.53370201e+08, 1.53370271e+08, 1.53370341e+08, 1.53370411e+08,\n",
       "       1.53370481e+08, 1.53370551e+08, 1.53370621e+08, 1.53370691e+08,\n",
       "       1.53370761e+08, 1.53370831e+08, 1.53370901e+08, 1.53370971e+08,\n",
       "       1.53371041e+08, 1.53371111e+08, 1.53371181e+08, 1.53371251e+08,\n",
       "       1.53371321e+08, 1.53371391e+08, 1.53371461e+08, 1.53371531e+08,\n",
       "       1.53371601e+08, 1.53371671e+08, 1.53371741e+08, 1.53371811e+08,\n",
       "       1.53371881e+08, 1.53371951e+08, 1.53372021e+08, 1.53372091e+08,\n",
       "       1.53372161e+08, 1.53372231e+08, 1.53372301e+08, 1.53372371e+08,\n",
       "       1.53372441e+08, 1.53372511e+08, 1.53372581e+08, 1.53372651e+08,\n",
       "       1.53372721e+08, 1.53372791e+08, 1.53372861e+08, 1.53372931e+08,\n",
       "       1.53373001e+08, 1.53373071e+08, 1.53373141e+08, 1.53373211e+08,\n",
       "       1.53373281e+08, 1.53373351e+08, 1.53373421e+08, 1.53373491e+08,\n",
       "       1.53373561e+08, 1.53373631e+08, 1.53373701e+08, 1.53373771e+08,\n",
       "       1.53373841e+08, 1.53373911e+08, 1.53373981e+08, 1.53374051e+08,\n",
       "       1.53374121e+08, 1.53374191e+08, 1.53374261e+08, 1.53374331e+08,\n",
       "       1.53374401e+08, 1.53374471e+08, 1.53374541e+08, 1.53374611e+08,\n",
       "       1.53374681e+08, 1.53374751e+08, 1.53374821e+08, 1.53374891e+08,\n",
       "       1.53374961e+08, 1.53375031e+08, 1.53375101e+08, 1.53375171e+08,\n",
       "       1.53375241e+08, 1.53375311e+08, 1.53375381e+08, 1.53375451e+08,\n",
       "       1.53375521e+08, 1.53375591e+08, 1.53375661e+08, 1.53375731e+08,\n",
       "       1.53375801e+08, 1.53375871e+08, 1.53375941e+08, 1.53376011e+08,\n",
       "       1.53376081e+08, 1.53376151e+08, 1.53376221e+08, 1.53376291e+08,\n",
       "       1.53376361e+08, 1.53376431e+08, 1.53376501e+08, 1.53376571e+08,\n",
       "       1.53376641e+08, 1.53376711e+08, 1.53376781e+08, 1.53376851e+08,\n",
       "       1.53376921e+08, 1.53376991e+08, 1.53377061e+08, 1.53377131e+08,\n",
       "       1.53377201e+08, 1.53377271e+08, 1.53377341e+08, 1.53377411e+08,\n",
       "       1.53377481e+08, 1.53377551e+08, 1.53377621e+08, 1.53377691e+08,\n",
       "       1.53377761e+08, 1.53377831e+08, 1.53377901e+08, 1.53377971e+08,\n",
       "       1.53378041e+08, 1.53378111e+08, 1.53378181e+08, 1.53378251e+08,\n",
       "       1.53378321e+08, 1.53378391e+08, 1.53378461e+08, 1.53378531e+08,\n",
       "       1.53378601e+08, 1.53378671e+08, 1.53378741e+08, 1.53378811e+08,\n",
       "       1.53378881e+08, 1.53378951e+08, 1.53379021e+08, 1.53379091e+08,\n",
       "       1.53379161e+08, 1.53379231e+08, 1.53379301e+08, 1.53379371e+08,\n",
       "       1.53379441e+08, 1.53379511e+08, 1.53379581e+08, 1.53379651e+08,\n",
       "       1.53379721e+08, 1.53379791e+08, 1.53379861e+08, 1.53379931e+08,\n",
       "       1.53380001e+08, 1.53380071e+08, 1.53380141e+08, 1.53380211e+08,\n",
       "       1.53380281e+08, 1.53380351e+08, 1.53380421e+08, 1.53380491e+08,\n",
       "       1.53380561e+08, 1.53380631e+08, 1.53380701e+08, 1.53380771e+08,\n",
       "       1.53380841e+08, 1.53380911e+08, 1.53380981e+08, 1.53381051e+08,\n",
       "       1.53381121e+08, 1.53381191e+08, 1.53381261e+08, 1.53381331e+08,\n",
       "       1.53381401e+08, 1.53381471e+08, 1.53381541e+08, 1.53381611e+08,\n",
       "       1.53381681e+08, 1.53381751e+08, 1.53381821e+08, 1.53381891e+08,\n",
       "       1.53381961e+08, 1.53382031e+08, 1.53382101e+08, 1.53382171e+08,\n",
       "       1.53382241e+08, 1.53382311e+08, 1.53382381e+08, 1.53382451e+08,\n",
       "       1.53382521e+08, 1.53382591e+08, 1.53382661e+08, 1.53382731e+08,\n",
       "       1.53382801e+08, 1.53382871e+08, 1.53382941e+08, 1.53383011e+08,\n",
       "       1.53383081e+08, 1.53383151e+08, 1.53383221e+08, 1.53383291e+08,\n",
       "       1.53383361e+08, 1.53383431e+08, 1.53383501e+08, 1.53383571e+08,\n",
       "       1.53383641e+08, 1.53383711e+08, 1.53383781e+08, 1.53383851e+08,\n",
       "       1.53383921e+08, 1.53383991e+08, 1.53384061e+08, 1.53384131e+08,\n",
       "       1.53384201e+08, 1.53384271e+08, 1.53384341e+08, 1.53384411e+08,\n",
       "       1.53384481e+08, 1.53384551e+08, 1.53384621e+08, 1.53384691e+08,\n",
       "       1.53384761e+08, 1.53384831e+08, 1.53384901e+08, 1.53384971e+08,\n",
       "       1.53385041e+08, 1.53385111e+08, 1.53385181e+08, 1.53385251e+08,\n",
       "       1.53385321e+08, 1.53385391e+08, 1.53385461e+08, 1.53385531e+08,\n",
       "       1.53385601e+08, 1.53385671e+08, 1.53385741e+08, 1.53385811e+08,\n",
       "       1.53385881e+08, 1.53385951e+08, 1.53386021e+08, 1.53386091e+08,\n",
       "       1.53386161e+08, 1.53386231e+08, 1.53386301e+08, 1.53386371e+08,\n",
       "       1.53386441e+08, 1.53386511e+08, 1.53386581e+08, 1.53386651e+08,\n",
       "       1.53386721e+08, 1.53386791e+08, 1.53386861e+08, 1.53386931e+08,\n",
       "       1.53387001e+08, 1.53387071e+08, 1.53387141e+08, 1.53387211e+08,\n",
       "       1.53387281e+08, 1.53387351e+08, 1.53387421e+08, 1.53387491e+08,\n",
       "       1.53387561e+08, 1.53387631e+08, 1.53387701e+08, 1.53387771e+08,\n",
       "       1.53387841e+08, 1.53387911e+08, 1.53387981e+08, 1.53388051e+08,\n",
       "       1.53388121e+08, 1.53388191e+08, 1.53388261e+08, 1.53388331e+08,\n",
       "       1.53388401e+08, 1.53388471e+08, 1.53388541e+08, 1.53388611e+08,\n",
       "       1.53388681e+08, 1.53388751e+08, 1.53388821e+08, 1.53388891e+08,\n",
       "       1.53388961e+08, 1.53389031e+08, 1.53389101e+08, 1.53389171e+08,\n",
       "       1.53389241e+08, 1.53389311e+08, 1.53389381e+08, 1.53389451e+08,\n",
       "       1.53389521e+08, 1.53389591e+08, 1.53389661e+08, 1.53389731e+08,\n",
       "       1.53389801e+08, 1.53389871e+08, 1.53389941e+08, 1.53390011e+08,\n",
       "       1.53390081e+08, 1.53390151e+08, 1.53390221e+08, 1.53390291e+08,\n",
       "       1.53390361e+08, 1.53390431e+08, 1.53390501e+08, 1.53390571e+08,\n",
       "       1.53390641e+08, 1.53390711e+08, 1.53390781e+08, 1.53390851e+08,\n",
       "       1.53390921e+08, 1.53390991e+08, 1.53391061e+08, 1.53391131e+08,\n",
       "       1.53391201e+08, 1.53391271e+08, 1.53391341e+08, 1.53391411e+08,\n",
       "       1.53391481e+08, 1.53391551e+08, 1.53391621e+08, 1.53391691e+08,\n",
       "       1.53391761e+08, 1.53391831e+08, 1.53391901e+08, 1.53391971e+08,\n",
       "       1.53392041e+08, 1.53392111e+08, 1.53392181e+08, 1.53392251e+08,\n",
       "       1.53392321e+08, 1.53392391e+08, 1.53392461e+08, 1.53392531e+08,\n",
       "       1.53392601e+08, 1.53392671e+08, 1.53392741e+08, 1.53392811e+08,\n",
       "       1.53392881e+08, 1.53392951e+08, 1.53393021e+08, 1.53393091e+08,\n",
       "       1.53393161e+08, 1.53393231e+08, 1.53393301e+08, 1.53393371e+08,\n",
       "       1.53393441e+08, 1.53393511e+08, 1.53393581e+08, 1.53393651e+08,\n",
       "       1.53393721e+08, 1.53393791e+08, 1.53393861e+08, 1.53393931e+08,\n",
       "       1.53394001e+08, 1.53394071e+08, 1.53394141e+08, 1.53394211e+08,\n",
       "       1.53394281e+08, 1.53394351e+08, 1.53394421e+08, 1.53394491e+08,\n",
       "       1.53394561e+08, 1.53394631e+08, 1.53394701e+08, 1.53394771e+08,\n",
       "       1.53394841e+08, 1.53394911e+08, 1.53394981e+08, 1.53395051e+08,\n",
       "       1.53395121e+08, 1.53395191e+08, 1.53395261e+08, 1.53395331e+08,\n",
       "       1.53395401e+08, 1.53395471e+08, 1.53395541e+08, 1.53395611e+08,\n",
       "       1.53395681e+08, 1.53395751e+08, 1.53395821e+08, 1.53395891e+08,\n",
       "       1.53395961e+08, 1.53396031e+08, 1.53396101e+08, 1.53396171e+08,\n",
       "       1.53396241e+08, 1.53396311e+08, 1.53396381e+08, 1.53396451e+08,\n",
       "       1.53396521e+08, 1.53396591e+08, 1.53396661e+08, 1.53396731e+08,\n",
       "       1.53396801e+08, 1.53396871e+08, 1.53396941e+08])"
      ]
     },
     "execution_count": 11,
     "metadata": {},
     "output_type": "execute_result"
    }
   ],
   "source": [
    "tbegin = np.amin(time)\n",
    "tend = np.amax(time)\n",
    "bins = np.arange(tbegin, tend, 70)\n",
    "bins"
   ]
  },
  {
   "cell_type": "code",
   "execution_count": 83,
   "metadata": {},
   "outputs": [
    {
     "data": {
      "text/plain": [
       "[<matplotlib.lines.Line2D at 0x18bf9537cd0>]"
      ]
     },
     "execution_count": 83,
     "metadata": {},
     "output_type": "execute_result"
    },
    {
     "data": {
      "image/png": "[encoded data removed]",
      "text/plain": [
       "<Figure size 432x288 with 1 Axes>"
      ]
     },
     "metadata": {
      "needs_background": "light"
     },
     "output_type": "display_data"
    }
   ],
   "source": [
    "binned_time, binned_count = [], []\n",
    "smooth= convolve(count_rate, Box1DKernel(11))\n",
    "b = 70\n",
    "for i in range(len(time)//b):\n",
    "    binned_time.append(time[b*i])\n",
    "    binned_count.append(np.sum(count_rate[b*i:b*(i+1)]))\n",
    "#plt.plot(binned_time[100:200], binned_count[100:200])\n",
    "plt.plot(binned_time, binned_count)"
   ]
  },
  {
   "cell_type": "code",
   "execution_count": 32,
   "metadata": {},
   "outputs": [
    {
     "data": {
      "text/plain": [
       "[<matplotlib.lines.Line2D at 0x18bf67cf520>]"
      ]
     },
     "execution_count": 32,
     "metadata": {},
     "output_type": "execute_result"
    },
    {
     "data": {
      "image/png": "[encoded data removed]",
      "text/plain": [
       "<Figure size 432x288 with 1 Axes>"
      ]
     },
     "metadata": {
      "needs_background": "light"
     },
     "output_type": "display_data"
    }
   ],
   "source": [
    "binned = np.array([])\n",
    "bin_size = 100\n",
    "for i in range(len(time)//bin_size):\n",
    "    smooth = convolve(count_rate[bin_size*i:bin_size*(i+1)], Box1DKernel(11))\n",
    "    sm_count = np.concatenate((sm_count, smooth))[2:-1]\n",
    "plt.plot(sm_count)"
   ]
  },
  {
   "cell_type": "code",
   "execution_count": 69,
   "metadata": {},
   "outputs": [
    {
     "data": {
      "text/plain": [
       "[<matplotlib.lines.Line2D at 0x18bf8181a90>]"
      ]
     },
     "execution_count": 69,
     "metadata": {},
     "output_type": "execute_result"
    },
    {
     "data": {
      "image/png": "[encoded data removed]",
      "text/plain": [
       "<Figure size 432x288 with 1 Axes>"
      ]
     },
     "metadata": {
      "needs_background": "light"
     },
     "output_type": "display_data"
    }
   ],
   "source": [
    "a=count_rate[0:100]\n",
    "b=count_rate[100:200]\n",
    "bxa1 = convolve(count_rate[0:400], Box1DKernel(11))\n",
    "bxa2 = convolve(count_rate[400:800], Box1DKernel(10))\n",
    "c = convolve(count_rate[0:800], Box1DKernel(11))\n",
    "bxa3 = np.concatenate((bxa1, bxa2))\n",
    "plt.plot(bxa3)\n",
    "plt.plot(c)"
   ]
  },
  {
   "cell_type": "code",
   "execution_count": 56,
   "metadata": {
    "scrolled": true
   },
   "outputs": [
    {
     "data": {
      "text/plain": [
       "array([[3.93204590e+02, 1.53360961e+08],\n",
       "       [3.87189514e+02, 1.53360962e+08],\n",
       "       [3.19769318e+02, 1.53360963e+08],\n",
       "       ...,\n",
       "       [3.50233948e+02, 1.53397004e+08],\n",
       "       [3.98743317e+02, 1.53397005e+08],\n",
       "       [3.59054565e+02, 1.53397006e+08]])"
      ]
     },
     "execution_count": 56,
     "metadata": {},
     "output_type": "execute_result"
    }
   ],
   "source": [
    "combined = np.column_stack((count_rate,time))\n",
    "combined"
   ]
  },
  {
   "cell_type": "code",
   "execution_count": 31,
   "metadata": {
    "collapsed": true
   },
   "outputs": [
    {
     "name": "stdout",
     "output_type": "stream",
     "text": [
      "354.3848\n",
      "344.4242\n"
     ]
    }
   ],
   "source": [
    "print(np.average(count_rate[100:200]))\n",
    "print(np.average(convolve(count_rate[100:200], Box1DKernel(11))))"
   ]
  },
  {
   "cell_type": "code",
   "execution_count": 86,
   "metadata": {
    "collapsed": true
   },
   "outputs": [
    {
     "data": {
      "text/plain": [
       "array([198.62883, 231.68878, 264.46436, 298.51544, 327.01102, 358.88303,\n",
       "       355.5616 , 350.033  , 353.57892, 349.9435 , 350.5187 , 354.8498 ,\n",
       "       355.77216, 359.26437, 354.42072, 357.89868, 359.89664, 361.5317 ,\n",
       "       366.6219 , 366.9473 , 364.02554, 368.25305, 363.00748, 363.38113,\n",
       "       360.55954, 367.06335, 371.01703, 373.6473 , 368.3999 , 366.37006,\n",
       "       371.45984, 372.5533 , 366.8001 , 371.87857, 369.51953, 370.08154,\n",
       "       366.8182 , 363.6145 , 359.46542, 366.69913, 367.4631 , 359.648  ,\n",
       "       359.53107, 357.5094 , 354.50854, 354.77   , 351.60278, 352.72867,\n",
       "       353.66254, 356.00128, 354.74298, 357.4065 , 358.90942, 363.62668,\n",
       "       369.35538, 372.64297, 372.16956, 370.3968 , 367.57144, 364.72595,\n",
       "       360.83414, 358.0028 , 356.6254 , 356.29477, 354.83633, 320.8233 ,\n",
       "       285.73956, 253.95453, 224.8863 , 194.13788], dtype=float32)"
      ]
     },
     "execution_count": 86,
     "metadata": {},
     "output_type": "execute_result"
    }
   ],
   "source": [
    "x = convolve(count_rate[0:70], Box1DKernel(11))\n",
    "x"
   ]
  },
  {
   "cell_type": "code",
   "execution_count": 84,
   "metadata": {},
   "outputs": [
    {
     "data": {
      "text/plain": [
       "[<matplotlib.lines.Line2D at 0x18bf9597460>]"
      ]
     },
     "execution_count": 84,
     "metadata": {},
     "output_type": "execute_result"
    },
    {
     "data": {
      "image/png": "[encoded data removed]",
      "text/plain": [
       "<Figure size 432x288 with 1 Axes>"
      ]
     },
     "metadata": {
      "needs_background": "light"
     },
     "output_type": "display_data"
    }
   ],
   "source": [
    "plt.plot(binned_time, binned_count, marker = 'o')"
   ]
  },
  {
   "cell_type": "code",
   "execution_count": 95,
   "metadata": {
    "collapsed": true
   },
   "outputs": [
    {
     "data": {
      "text/plain": [
       "array([False, False, False,  True,  True, False, False,  True, False,\n",
       "        True,  True,  True,  True, False, False, False, False, False,\n",
       "        True,  True,  True,  True, False,  True,  True, False,  True,\n",
       "        True,  True, False, False, False, False, False, False,  True,\n",
       "       False, False, False,  True, False,  True, False, False, False,\n",
       "        True,  True,  True,  True,  True, False, False, False, False,\n",
       "        True,  True,  True, False,  True,  True,  True,  True,  True,\n",
       "        True, False, False, False, False, False, False,  True, False,\n",
       "       False, False, False, False, False,  True,  True, False,  True,\n",
       "       False,  True, False,  True,  True,  True, False,  True,  True,\n",
       "        True, False,  True,  True, False, False, False,  True, False,\n",
       "       False, False,  True, False,  True,  True, False,  True,  True,\n",
       "       False,  True, False, False, False, False, False, False, False,\n",
       "       False,  True, False,  True,  True,  True, False, False, False,\n",
       "       False, False, False, False, False,  True, False, False,  True,\n",
       "        True,  True, False,  True])"
      ]
     },
     "execution_count": 95,
     "metadata": {},
     "output_type": "execute_result"
    }
   ],
   "source": [
    "binned_count\n",
    "mask = np.array(np.ediff1d(binned_count).clip(min = 0), dtype = bool)\n",
    "mask"
   ]
  },
  {
   "cell_type": "code",
   "execution_count": 157,
   "metadata": {
    "collapsed": true
   },
   "outputs": [
    {
     "data": {
      "text/plain": [
       "0"
      ]
     },
     "execution_count": 157,
     "metadata": {},
     "output_type": "execute_result"
    }
   ],
   "source": [
    "dr = binned_count[:-4]\n",
    "nr = binned_count[4:]\n",
    "where = np.where(np.divide(nr, dr)>1)\n",
    "where[0][0]"
   ]
  },
  {
   "cell_type": "code",
   "execution_count": 82,
   "metadata": {},
   "outputs": [
    {
     "name": "stdout",
     "output_type": "stream",
     "text": [
      "85\n",
      "91\n",
      "104\n"
     ]
    },
    {
     "data": {
      "text/plain": [
       "<matplotlib.lines.Line2D at 0x18bf94dfd30>"
      ]
     },
     "execution_count": 82,
     "metadata": {},
     "output_type": "execute_result"
    },
    {
     "data": {
      "image/png": "[encoded data removed]",
      "text/plain": [
       "<Figure size 432x288 with 1 Axes>"
      ]
     },
     "metadata": {
      "needs_background": "light"
     },
     "output_type": "display_data"
    }
   ],
   "source": [
    "#Start of burst\n",
    "st_cutoff = 1.3\n",
    "st_nr = binned_count[4:]\n",
    "st_dr = binned_count[:-4]\n",
    "st_flags = np.where(np.divide(st_nr, st_dr)>st_cutoff)\n",
    "print(st_flags[0][0])\n",
    "\n",
    "#Peak of burst\n",
    "peak = binned_count[st_flags[0][0]:]\n",
    "pk_nr = peak[4:]\n",
    "pk_dr = peak[:-4]\n",
    "peak_flags = st_flags[0][0]+np.where(np.divide(pk_nr, pk_dr)<1)\n",
    "print(peak_flags[0][0])\n",
    "\n",
    "#End of burst\n",
    "zero_crossings = peak_flags[0][0]+np.where(np.where(np.diff(np.sign(np.divide(pk_nr, pk_dr)-1)))[0]>peak_flags[0][0])\n",
    "print(zero_crossings[0][0])\n",
    "\n",
    "plt.plot(binned_time, binned_count,marker = 'o')\n",
    "plt.axvline(binned_time[st_flags[0][0]], color = 'black', ls='--')\n",
    "plt.axvline(binned_time[peak_flags[0][0]], color = 'black', ls='--')\n",
    "plt.axvline(binned_time[zero_crossings[0][1]], color = 'red', ls='--')"
   ]
  },
  {
   "cell_type": "code",
   "execution_count": 207,
   "metadata": {
    "collapsed": true
   },
   "outputs": [
    {
     "data": {
      "text/plain": [
       "<matplotlib.lines.Line2D at 0x10e73000c40>"
      ]
     },
     "execution_count": 207,
     "metadata": {},
     "output_type": "execute_result"
    },
    {
     "data": {
      "image/png": "[encoded data removed]",
      "text/plain": [
       "<Figure size 432x288 with 1 Axes>"
      ]
     },
     "metadata": {
      "needs_background": "light"
     },
     "output_type": "display_data"
    }
   ],
   "source": [
    "dr = binned_count[:-4]\n",
    "nr = binned_count[4:]\n",
    "where = np.where(np.divide(nr, dr)>1.3)\n",
    "where[0][0]\n",
    "further_counts = binned_count[where[0][0]:]\n",
    "drdec = further_counts[:-4]\n",
    "nrdec = further_counts[4:]\n",
    "dec_where = where[0][0]+np.where(np.divide(nrdec, drdec)<1)\n",
    "dec_where\n",
    "plt.plot(binned_time, binned_count,marker = 'o')\n",
    "plt.axvline(binned_time[where[0][0]], color = 'black', ls='--')\n",
    "plt.axvline(binned_time[where[0][-1]], color = 'black', ls='--')\n",
    "plt.axvline(binned_time[zero_crossings[0][1]], color = 'red', ls='--')"
   ]
  },
  {
   "cell_type": "code",
   "execution_count": 206,
   "metadata": {
    "collapsed": true
   },
   "outputs": [
    {
     "data": {
      "text/plain": [
       "array([[72, 73]], dtype=int64)"
      ]
     },
     "execution_count": 206,
     "metadata": {},
     "output_type": "execute_result"
    }
   ],
   "source": [
    "further_counts = binned_count[where[0][0]:]\n",
    "drdec = further_counts[:-4]\n",
    "nrdec = further_counts[4:]\n",
    "dec_where = where[0][0]+np.where(np.divide(nrdec, drdec)<1)\n",
    "np.divide(nrdec, drdec) -1 #dec_where\n",
    "zero_crossings = where[0][0]+np.where(np.where(np.diff(np.sign(np.divide(nrdec, drdec) -1)))[0]>where[0][0])+6\n",
    "zero_crossings"
   ]
  },
  {
   "cell_type": "code",
   "execution_count": 210,
   "metadata": {
    "collapsed": true
   },
   "outputs": [
    {
     "data": {
      "text/plain": [
       "(array([ 0,  1,  2,  3,  4,  5,  6,  7,  8,  9, 10, 11, 12, 13, 14, 15, 16,\n",
       "        17, 18, 19, 20, 21, 22, 23, 24, 25, 26, 27, 28, 29, 30, 31, 32, 33,\n",
       "        34, 35, 36, 37, 38, 39, 40, 41, 42, 43, 44, 45, 46, 47, 48, 49, 50,\n",
       "        51, 52, 53, 54, 55, 56, 57, 58, 59, 60, 61, 62, 63, 64, 65, 66, 67,\n",
       "        68, 69, 70, 71, 72, 73, 74, 75, 76, 77], dtype=int64),)"
      ]
     },
     "execution_count": 210,
     "metadata": {},
     "output_type": "execute_result"
    }
   ],
   "source": [
    "np.where(np.sign(np.divide(nrdec, drdec)-1))"
   ]
  },
  {
   "cell_type": "code",
   "execution_count": 17,
   "metadata": {},
   "outputs": [],
   "source": [
    "gti = fits.open(r'C:\\Users\\aswin\\OneDrive\\Desktop\\ch2_xsm_20211111_v1_level2.gti')"
   ]
  },
  {
   "cell_type": "code",
   "execution_count": 18,
   "metadata": {},
   "outputs": [
    {
     "name": "stdout",
     "output_type": "stream",
     "text": [
      "Filename: C:\\Users\\aswin\\OneDrive\\Desktop\\ch2_xsm_20211111_v1_level2.gti\n",
      "No.    Name      Ver    Type      Cards   Dimensions   Format\n",
      "  0  PRIMARY       1 PrimaryHDU      15   ()      \n",
      "  1  GTI           1 BinTableHDU     53   13R x 2C   [D, D]   \n"
     ]
    }
   ],
   "source": [
    "gti.info()"
   ]
  },
  {
   "cell_type": "code",
   "execution_count": 19,
   "metadata": {},
   "outputs": [],
   "source": [
    "gtis = np.array(gti[1].data)"
   ]
  },
  {
   "cell_type": "code",
   "execution_count": 85,
   "metadata": {},
   "outputs": [
    {
     "data": {
      "text/plain": [
       "(-0.09974002838134766, 1486.8991989791393)"
      ]
     },
     "execution_count": 85,
     "metadata": {},
     "output_type": "execute_result"
    }
   ],
   "source": [
    "gti_arr = []\n",
    "for i in range(len(gtis)):\n",
    "    gti_arr.append(gtis[i][0])\n",
    "    gti_arr.append(gtis[i][1])\n",
    "gtis[0][0]-1.53360961e+08, gtis[0][1]-1.53360961e+08"
   ]
  },
  {
   "cell_type": "code",
   "execution_count": 21,
   "metadata": {},
   "outputs": [
    {
     "data": {
      "text/plain": [
       "[<matplotlib.lines.Line2D at 0x1ea7e274c10>]"
      ]
     },
     "execution_count": 21,
     "metadata": {},
     "output_type": "execute_result"
    },
    {
     "data": {
      "image/png": "[encoded data removed]",
      "text/plain": [
       "<Figure size 432x288 with 1 Axes>"
      ]
     },
     "metadata": {
      "needs_background": "light"
     },
     "output_type": "display_data"
    }
   ],
   "source": [
    "plt.plot(gti_arr, linestyle = '--', marker = 'o')"
   ]
  },
  {
   "cell_type": "code",
   "execution_count": 22,
   "metadata": {},
   "outputs": [
    {
     "data": {
      "text/plain": [
       "[<matplotlib.lines.Line2D at 0x1ea7e2d7490>]"
      ]
     },
     "execution_count": 22,
     "metadata": {},
     "output_type": "execute_result"
    },
    {
     "data": {
      "image/png": "[encoded data removed]",
      "text/plain": [
       "<Figure size 432x288 with 1 Axes>"
      ]
     },
     "metadata": {
      "needs_background": "light"
     },
     "output_type": "display_data"
    }
   ],
   "source": [
    "comparison_times = np.array([])\n",
    "for i in range(0, 26, 2):\n",
    "    comparison_times = np.append(comparison_times, np.linspace(gti_arr[i], gti_arr[i+1]))\n",
    "plt.plot(comparison_times)"
   ]
  },
  {
   "cell_type": "code",
   "execution_count": 23,
   "metadata": {},
   "outputs": [
    {
     "data": {
      "text/plain": [
       "array([1.53360961e+08, 1.53360991e+08, 1.53361022e+08, 1.53361052e+08,\n",
       "       1.53361082e+08, 1.53361113e+08, 1.53361143e+08, 1.53361173e+08,\n",
       "       1.53361204e+08, 1.53361234e+08, 1.53361264e+08, 1.53361295e+08,\n",
       "       1.53361325e+08, 1.53361355e+08, 1.53361386e+08, 1.53361416e+08,\n",
       "       1.53361446e+08, 1.53361477e+08, 1.53361507e+08, 1.53361537e+08,\n",
       "       1.53361568e+08, 1.53361598e+08, 1.53361629e+08, 1.53361659e+08,\n",
       "       1.53361689e+08, 1.53361720e+08, 1.53361750e+08, 1.53361780e+08,\n",
       "       1.53361811e+08, 1.53361841e+08, 1.53361871e+08, 1.53361902e+08,\n",
       "       1.53361932e+08, 1.53361962e+08, 1.53361993e+08, 1.53362023e+08,\n",
       "       1.53362053e+08, 1.53362084e+08, 1.53362114e+08, 1.53362144e+08,\n",
       "       1.53362175e+08, 1.53362205e+08, 1.53362235e+08, 1.53362266e+08,\n",
       "       1.53362296e+08, 1.53362327e+08, 1.53362357e+08, 1.53362387e+08,\n",
       "       1.53362418e+08, 1.53362448e+08, 1.53364976e+08, 1.53365005e+08,\n",
       "       1.53365035e+08, 1.53365064e+08, 1.53365093e+08, 1.53365123e+08,\n",
       "       1.53365152e+08, 1.53365181e+08, 1.53365211e+08, 1.53365240e+08,\n",
       "       1.53365270e+08, 1.53365299e+08, 1.53365328e+08, 1.53365358e+08,\n",
       "       1.53365387e+08, 1.53365416e+08, 1.53365446e+08, 1.53365475e+08,\n",
       "       1.53365505e+08, 1.53365534e+08, 1.53365563e+08, 1.53365593e+08,\n",
       "       1.53365622e+08, 1.53365651e+08, 1.53365681e+08, 1.53365710e+08,\n",
       "       1.53365739e+08, 1.53365769e+08, 1.53365798e+08, 1.53365828e+08,\n",
       "       1.53365857e+08, 1.53365886e+08, 1.53365916e+08, 1.53365945e+08,\n",
       "       1.53365974e+08, 1.53366004e+08, 1.53366033e+08, 1.53366062e+08,\n",
       "       1.53366092e+08, 1.53366121e+08, 1.53366151e+08, 1.53366180e+08,\n",
       "       1.53366209e+08, 1.53366239e+08, 1.53366268e+08, 1.53366297e+08,\n",
       "       1.53366327e+08, 1.53366356e+08, 1.53366386e+08, 1.53366415e+08,\n",
       "       1.53368085e+08, 1.53368115e+08, 1.53368146e+08, 1.53368176e+08,\n",
       "       1.53368206e+08, 1.53368237e+08, 1.53368267e+08, 1.53368297e+08,\n",
       "       1.53368327e+08, 1.53368358e+08, 1.53368388e+08, 1.53368418e+08,\n",
       "       1.53368449e+08, 1.53368479e+08, 1.53368509e+08, 1.53368540e+08,\n",
       "       1.53368570e+08, 1.53368600e+08, 1.53368631e+08, 1.53368661e+08,\n",
       "       1.53368691e+08, 1.53368722e+08, 1.53368752e+08, 1.53368782e+08,\n",
       "       1.53368813e+08, 1.53368843e+08, 1.53368873e+08, 1.53368904e+08,\n",
       "       1.53368934e+08, 1.53368964e+08, 1.53368995e+08, 1.53369025e+08,\n",
       "       1.53369055e+08, 1.53369086e+08, 1.53369116e+08, 1.53369146e+08,\n",
       "       1.53369177e+08, 1.53369207e+08, 1.53369237e+08, 1.53369268e+08,\n",
       "       1.53369298e+08, 1.53369328e+08, 1.53369359e+08, 1.53369389e+08,\n",
       "       1.53369419e+08, 1.53369450e+08, 1.53369480e+08, 1.53369510e+08,\n",
       "       1.53369541e+08, 1.53369571e+08, 1.53372099e+08, 1.53372128e+08,\n",
       "       1.53372158e+08, 1.53372187e+08, 1.53372216e+08, 1.53372246e+08,\n",
       "       1.53372275e+08, 1.53372304e+08, 1.53372334e+08, 1.53372363e+08,\n",
       "       1.53372392e+08, 1.53372422e+08, 1.53372451e+08, 1.53372480e+08,\n",
       "       1.53372510e+08, 1.53372539e+08, 1.53372568e+08, 1.53372598e+08,\n",
       "       1.53372627e+08, 1.53372656e+08, 1.53372686e+08, 1.53372715e+08,\n",
       "       1.53372745e+08, 1.53372774e+08, 1.53372803e+08, 1.53372833e+08,\n",
       "       1.53372862e+08, 1.53372891e+08, 1.53372921e+08, 1.53372950e+08,\n",
       "       1.53372979e+08, 1.53373009e+08, 1.53373038e+08, 1.53373067e+08,\n",
       "       1.53373097e+08, 1.53373126e+08, 1.53373155e+08, 1.53373185e+08,\n",
       "       1.53373214e+08, 1.53373243e+08, 1.53373273e+08, 1.53373302e+08,\n",
       "       1.53373331e+08, 1.53373361e+08, 1.53373390e+08, 1.53373419e+08,\n",
       "       1.53373449e+08, 1.53373478e+08, 1.53373508e+08, 1.53373537e+08,\n",
       "       1.53375210e+08, 1.53375240e+08, 1.53375270e+08, 1.53375301e+08,\n",
       "       1.53375331e+08, 1.53375361e+08, 1.53375391e+08, 1.53375422e+08,\n",
       "       1.53375452e+08, 1.53375482e+08, 1.53375513e+08, 1.53375543e+08,\n",
       "       1.53375573e+08, 1.53375603e+08, 1.53375634e+08, 1.53375664e+08,\n",
       "       1.53375694e+08, 1.53375724e+08, 1.53375755e+08, 1.53375785e+08,\n",
       "       1.53375815e+08, 1.53375845e+08, 1.53375876e+08, 1.53375906e+08,\n",
       "       1.53375936e+08, 1.53375966e+08, 1.53375997e+08, 1.53376027e+08,\n",
       "       1.53376057e+08, 1.53376088e+08, 1.53376118e+08, 1.53376148e+08,\n",
       "       1.53376178e+08, 1.53376209e+08, 1.53376239e+08, 1.53376269e+08,\n",
       "       1.53376299e+08, 1.53376330e+08, 1.53376360e+08, 1.53376390e+08,\n",
       "       1.53376420e+08, 1.53376451e+08, 1.53376481e+08, 1.53376511e+08,\n",
       "       1.53376542e+08, 1.53376572e+08, 1.53376602e+08, 1.53376632e+08,\n",
       "       1.53376663e+08, 1.53376693e+08, 1.53379223e+08, 1.53379252e+08,\n",
       "       1.53379281e+08, 1.53379311e+08, 1.53379340e+08, 1.53379369e+08,\n",
       "       1.53379399e+08, 1.53379428e+08, 1.53379457e+08, 1.53379487e+08,\n",
       "       1.53379516e+08, 1.53379545e+08, 1.53379575e+08, 1.53379604e+08,\n",
       "       1.53379633e+08, 1.53379662e+08, 1.53379692e+08, 1.53379721e+08,\n",
       "       1.53379750e+08, 1.53379780e+08, 1.53379809e+08, 1.53379838e+08,\n",
       "       1.53379868e+08, 1.53379897e+08, 1.53379926e+08, 1.53379956e+08,\n",
       "       1.53379985e+08, 1.53380014e+08, 1.53380043e+08, 1.53380073e+08,\n",
       "       1.53380102e+08, 1.53380131e+08, 1.53380161e+08, 1.53380190e+08,\n",
       "       1.53380219e+08, 1.53380249e+08, 1.53380278e+08, 1.53380307e+08,\n",
       "       1.53380336e+08, 1.53380366e+08, 1.53380395e+08, 1.53380424e+08,\n",
       "       1.53380454e+08, 1.53380483e+08, 1.53380512e+08, 1.53380542e+08,\n",
       "       1.53380571e+08, 1.53380600e+08, 1.53380630e+08, 1.53380659e+08,\n",
       "       1.53382335e+08, 1.53382341e+08, 1.53382347e+08, 1.53382352e+08,\n",
       "       1.53382358e+08, 1.53382364e+08, 1.53382370e+08, 1.53382376e+08,\n",
       "       1.53382382e+08, 1.53382388e+08, 1.53382394e+08, 1.53382399e+08,\n",
       "       1.53382405e+08, 1.53382411e+08, 1.53382417e+08, 1.53382423e+08,\n",
       "       1.53382429e+08, 1.53382435e+08, 1.53382441e+08, 1.53382447e+08,\n",
       "       1.53382452e+08, 1.53382458e+08, 1.53382464e+08, 1.53382470e+08,\n",
       "       1.53382476e+08, 1.53382482e+08, 1.53382488e+08, 1.53382494e+08,\n",
       "       1.53382499e+08, 1.53382505e+08, 1.53382511e+08, 1.53382517e+08,\n",
       "       1.53382523e+08, 1.53382529e+08, 1.53382535e+08, 1.53382541e+08,\n",
       "       1.53382546e+08, 1.53382552e+08, 1.53382558e+08, 1.53382564e+08,\n",
       "       1.53382570e+08, 1.53382576e+08, 1.53382582e+08, 1.53382588e+08,\n",
       "       1.53382593e+08, 1.53382599e+08, 1.53382605e+08, 1.53382611e+08,\n",
       "       1.53382617e+08, 1.53382623e+08, 1.53383496e+08, 1.53383502e+08,\n",
       "       1.53383509e+08, 1.53383515e+08, 1.53383522e+08, 1.53383528e+08,\n",
       "       1.53383535e+08, 1.53383541e+08, 1.53383548e+08, 1.53383554e+08,\n",
       "       1.53383561e+08, 1.53383567e+08, 1.53383574e+08, 1.53383580e+08,\n",
       "       1.53383587e+08, 1.53383593e+08, 1.53383600e+08, 1.53383607e+08,\n",
       "       1.53383613e+08, 1.53383620e+08, 1.53383626e+08, 1.53383633e+08,\n",
       "       1.53383639e+08, 1.53383646e+08, 1.53383652e+08, 1.53383659e+08,\n",
       "       1.53383665e+08, 1.53383672e+08, 1.53383678e+08, 1.53383685e+08,\n",
       "       1.53383691e+08, 1.53383698e+08, 1.53383704e+08, 1.53383711e+08,\n",
       "       1.53383717e+08, 1.53383724e+08, 1.53383730e+08, 1.53383737e+08,\n",
       "       1.53383743e+08, 1.53383750e+08, 1.53383756e+08, 1.53383763e+08,\n",
       "       1.53383769e+08, 1.53383776e+08, 1.53383782e+08, 1.53383789e+08,\n",
       "       1.53383795e+08, 1.53383802e+08, 1.53383808e+08, 1.53383815e+08,\n",
       "       1.53386347e+08, 1.53386376e+08, 1.53386405e+08, 1.53386435e+08,\n",
       "       1.53386464e+08, 1.53386493e+08, 1.53386523e+08, 1.53386552e+08,\n",
       "       1.53386581e+08, 1.53386610e+08, 1.53386640e+08, 1.53386669e+08,\n",
       "       1.53386698e+08, 1.53386728e+08, 1.53386757e+08, 1.53386786e+08,\n",
       "       1.53386815e+08, 1.53386845e+08, 1.53386874e+08, 1.53386903e+08,\n",
       "       1.53386933e+08, 1.53386962e+08, 1.53386991e+08, 1.53387020e+08,\n",
       "       1.53387050e+08, 1.53387079e+08, 1.53387108e+08, 1.53387138e+08,\n",
       "       1.53387167e+08, 1.53387196e+08, 1.53387225e+08, 1.53387255e+08,\n",
       "       1.53387284e+08, 1.53387313e+08, 1.53387343e+08, 1.53387372e+08,\n",
       "       1.53387401e+08, 1.53387430e+08, 1.53387460e+08, 1.53387489e+08,\n",
       "       1.53387518e+08, 1.53387548e+08, 1.53387577e+08, 1.53387606e+08,\n",
       "       1.53387635e+08, 1.53387665e+08, 1.53387694e+08, 1.53387723e+08,\n",
       "       1.53387753e+08, 1.53387782e+08, 1.53389460e+08, 1.53389465e+08,\n",
       "       1.53389470e+08, 1.53389474e+08, 1.53389479e+08, 1.53389484e+08,\n",
       "       1.53389489e+08, 1.53389494e+08, 1.53389499e+08, 1.53389504e+08,\n",
       "       1.53389509e+08, 1.53389513e+08, 1.53389518e+08, 1.53389523e+08,\n",
       "       1.53389528e+08, 1.53389533e+08, 1.53389538e+08, 1.53389543e+08,\n",
       "       1.53389548e+08, 1.53389552e+08, 1.53389557e+08, 1.53389562e+08,\n",
       "       1.53389567e+08, 1.53389572e+08, 1.53389577e+08, 1.53389582e+08,\n",
       "       1.53389587e+08, 1.53389592e+08, 1.53389596e+08, 1.53389601e+08,\n",
       "       1.53389606e+08, 1.53389611e+08, 1.53389616e+08, 1.53389621e+08,\n",
       "       1.53389626e+08, 1.53389631e+08, 1.53389635e+08, 1.53389640e+08,\n",
       "       1.53389645e+08, 1.53389650e+08, 1.53389655e+08, 1.53389660e+08,\n",
       "       1.53389665e+08, 1.53389670e+08, 1.53389674e+08, 1.53389679e+08,\n",
       "       1.53389684e+08, 1.53389689e+08, 1.53389694e+08, 1.53389699e+08,\n",
       "       1.53389700e+08, 1.53389725e+08, 1.53389750e+08, 1.53389776e+08,\n",
       "       1.53389801e+08, 1.53389826e+08, 1.53389851e+08, 1.53389877e+08,\n",
       "       1.53389902e+08, 1.53389927e+08, 1.53389952e+08, 1.53389978e+08,\n",
       "       1.53390003e+08, 1.53390028e+08, 1.53390053e+08, 1.53390078e+08,\n",
       "       1.53390104e+08, 1.53390129e+08, 1.53390154e+08, 1.53390179e+08,\n",
       "       1.53390205e+08, 1.53390230e+08, 1.53390255e+08, 1.53390280e+08,\n",
       "       1.53390306e+08, 1.53390331e+08, 1.53390356e+08, 1.53390381e+08,\n",
       "       1.53390407e+08, 1.53390432e+08, 1.53390457e+08, 1.53390482e+08,\n",
       "       1.53390508e+08, 1.53390533e+08, 1.53390558e+08, 1.53390583e+08,\n",
       "       1.53390609e+08, 1.53390634e+08, 1.53390659e+08, 1.53390684e+08,\n",
       "       1.53390710e+08, 1.53390735e+08, 1.53390760e+08, 1.53390785e+08,\n",
       "       1.53390811e+08, 1.53390836e+08, 1.53390861e+08, 1.53390886e+08,\n",
       "       1.53390912e+08, 1.53390937e+08, 1.53393470e+08, 1.53393499e+08,\n",
       "       1.53393528e+08, 1.53393558e+08, 1.53393587e+08, 1.53393616e+08,\n",
       "       1.53393645e+08, 1.53393675e+08, 1.53393704e+08, 1.53393733e+08,\n",
       "       1.53393762e+08, 1.53393792e+08, 1.53393821e+08, 1.53393850e+08,\n",
       "       1.53393880e+08, 1.53393909e+08, 1.53393938e+08, 1.53393967e+08,\n",
       "       1.53393997e+08, 1.53394026e+08, 1.53394055e+08, 1.53394084e+08,\n",
       "       1.53394114e+08, 1.53394143e+08, 1.53394172e+08, 1.53394201e+08,\n",
       "       1.53394231e+08, 1.53394260e+08, 1.53394289e+08, 1.53394319e+08,\n",
       "       1.53394348e+08, 1.53394377e+08, 1.53394406e+08, 1.53394436e+08,\n",
       "       1.53394465e+08, 1.53394494e+08, 1.53394523e+08, 1.53394553e+08,\n",
       "       1.53394582e+08, 1.53394611e+08, 1.53394640e+08, 1.53394670e+08,\n",
       "       1.53394699e+08, 1.53394728e+08, 1.53394757e+08, 1.53394787e+08,\n",
       "       1.53394816e+08, 1.53394845e+08, 1.53394875e+08, 1.53394904e+08,\n",
       "       1.53396584e+08, 1.53396592e+08, 1.53396601e+08, 1.53396610e+08,\n",
       "       1.53396618e+08, 1.53396627e+08, 1.53396636e+08, 1.53396644e+08,\n",
       "       1.53396653e+08, 1.53396662e+08, 1.53396670e+08, 1.53396679e+08,\n",
       "       1.53396688e+08, 1.53396696e+08, 1.53396705e+08, 1.53396714e+08,\n",
       "       1.53396722e+08, 1.53396731e+08, 1.53396740e+08, 1.53396748e+08,\n",
       "       1.53396757e+08, 1.53396766e+08, 1.53396774e+08, 1.53396783e+08,\n",
       "       1.53396791e+08, 1.53396800e+08, 1.53396809e+08, 1.53396817e+08,\n",
       "       1.53396826e+08, 1.53396835e+08, 1.53396843e+08, 1.53396852e+08,\n",
       "       1.53396861e+08, 1.53396869e+08, 1.53396878e+08, 1.53396887e+08,\n",
       "       1.53396895e+08, 1.53396904e+08, 1.53396913e+08, 1.53396921e+08,\n",
       "       1.53396930e+08, 1.53396939e+08, 1.53396947e+08, 1.53396956e+08,\n",
       "       1.53396965e+08, 1.53396973e+08, 1.53396982e+08, 1.53396990e+08,\n",
       "       1.53396999e+08, 1.53397008e+08])"
      ]
     },
     "execution_count": 23,
     "metadata": {},
     "output_type": "execute_result"
    }
   ],
   "source": [
    "comparison_times"
   ]
  },
  {
   "cell_type": "code",
   "execution_count": 24,
   "metadata": {},
   "outputs": [
    {
     "data": {
      "text/plain": [
       "array([1.53360961e+08, 1.53360991e+08, 1.53361022e+08, 1.53361052e+08,\n",
       "       1.53361082e+08, 1.53361113e+08, 1.53361143e+08, 1.53361173e+08,\n",
       "       1.53361204e+08, 1.53361234e+08, 1.53361264e+08, 1.53361295e+08,\n",
       "       1.53361325e+08, 1.53361355e+08, 1.53361386e+08, 1.53361416e+08,\n",
       "       1.53361446e+08, 1.53361477e+08, 1.53361507e+08, 1.53361537e+08,\n",
       "       1.53361568e+08, 1.53361598e+08, 1.53361629e+08, 1.53361659e+08,\n",
       "       1.53361689e+08, 1.53361720e+08, 1.53361750e+08, 1.53361780e+08,\n",
       "       1.53361811e+08, 1.53361841e+08, 1.53361871e+08, 1.53361902e+08,\n",
       "       1.53361932e+08, 1.53361962e+08, 1.53361993e+08, 1.53362023e+08,\n",
       "       1.53362053e+08, 1.53362084e+08, 1.53362114e+08, 1.53362144e+08,\n",
       "       1.53362175e+08, 1.53362205e+08, 1.53362235e+08, 1.53362266e+08,\n",
       "       1.53362296e+08, 1.53362327e+08, 1.53362357e+08, 1.53362387e+08,\n",
       "       1.53362418e+08, 1.53362448e+08])"
      ]
     },
     "execution_count": 24,
     "metadata": {},
     "output_type": "execute_result"
    }
   ],
   "source": [
    "np.append(np.array([]),np.linspace(gti_arr[0], gti_arr[1]))"
   ]
  },
  {
   "cell_type": "code",
   "execution_count": null,
   "metadata": {},
   "outputs": [],
   "source": []
  },
  {
   "cell_type": "code",
   "execution_count": null,
   "metadata": {},
   "outputs": [],
   "source": []
  }
 ],
 "metadata": {
  "kernelspec": {
   "display_name": "Python 3",
   "language": "python",
   "name": "python3"
  },
  "language_info": {
   "codemirror_mode": {
    "name": "ipython",
    "version": 3
   },
   "file_extension": ".py",
   "mimetype": "text/x-python",
   "name": "python",
   "nbconvert_exporter": "python",
   "pygments_lexer": "ipython3",
   "version": "3.8.5"
  }
 },
 "nbformat": 4,
 "nbformat_minor": 4
}
